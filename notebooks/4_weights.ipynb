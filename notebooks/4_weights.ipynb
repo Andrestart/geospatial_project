{
 "cells": [
  {
   "cell_type": "code",
   "execution_count": 4,
   "id": "745c1fa5",
   "metadata": {},
   "outputs": [],
   "source": [
    "import pandas as pd"
   ]
  },
  {
   "cell_type": "code",
   "execution_count": null,
   "id": "93b19269",
   "metadata": {},
   "outputs": [],
   "source": []
  },
  {
   "cell_type": "code",
   "execution_count": null,
   "id": "f5d048eb",
   "metadata": {},
   "outputs": [],
   "source": []
  },
  {
   "cell_type": "code",
   "execution_count": 9,
   "id": "fb3f03ad",
   "metadata": {},
   "outputs": [
    {
     "data": {
      "text/plain": [
       "0.2"
      ]
     },
     "execution_count": 9,
     "metadata": {},
     "output_type": "execute_result"
    }
   ],
   "source": [
    "marks['vegan_venues']"
   ]
  },
  {
   "cell_type": "code",
   "execution_count": 121,
   "id": "b4e9f807",
   "metadata": {},
   "outputs": [],
   "source": [
    "marks = {\"vegan_venues\": 0.20, \"starbucks\":0.20, \"schools\":0.20, \"train_stations\":0.25, \"basketball_courts\":0.15} "
   ]
  },
  {
   "cell_type": "code",
   "execution_count": 122,
   "id": "eaf37588",
   "metadata": {},
   "outputs": [],
   "source": [
    "dfsanfran = pd.read_csv('../newdata/dfsanfran.csv')\n",
    "dfell = pd.read_csv('../newdata/dfellensburg.csv')\n",
    "dfbro = pd.read_csv('../newdata/dfbrooklyn.csv')"
   ]
  },
  {
   "cell_type": "code",
   "execution_count": 123,
   "id": "93f6d85c",
   "metadata": {},
   "outputs": [
    {
     "data": {
      "text/html": [
       "<div>\n",
       "<style scoped>\n",
       "    .dataframe tbody tr th:only-of-type {\n",
       "        vertical-align: middle;\n",
       "    }\n",
       "\n",
       "    .dataframe tbody tr th {\n",
       "        vertical-align: top;\n",
       "    }\n",
       "\n",
       "    .dataframe thead th {\n",
       "        text-align: right;\n",
       "    }\n",
       "</style>\n",
       "<table border=\"1\" class=\"dataframe\">\n",
       "  <thead>\n",
       "    <tr style=\"text-align: right;\">\n",
       "      <th></th>\n",
       "      <th>name</th>\n",
       "      <th>lat</th>\n",
       "      <th>lon</th>\n",
       "      <th>location</th>\n",
       "      <th>category</th>\n",
       "      <th>distance</th>\n",
       "    </tr>\n",
       "  </thead>\n",
       "  <tbody>\n",
       "    <tr>\n",
       "      <th>0</th>\n",
       "      <td>Vegan Plaza</td>\n",
       "      <td>37.781963</td>\n",
       "      <td>-122.409698</td>\n",
       "      <td>{'type': 'Point', 'coordinates': [37.781963348...</td>\n",
       "      <td>vegan_venues</td>\n",
       "      <td>530</td>\n",
       "    </tr>\n",
       "    <tr>\n",
       "      <th>1</th>\n",
       "      <td>The Happy Vegan</td>\n",
       "      <td>37.780403</td>\n",
       "      <td>-122.395739</td>\n",
       "      <td>{'type': 'Point', 'coordinates': [37.780403, -...</td>\n",
       "      <td>vegan_venues</td>\n",
       "      <td>892</td>\n",
       "    </tr>\n",
       "    <tr>\n",
       "      <th>2</th>\n",
       "      <td>Very Vegan Sunday</td>\n",
       "      <td>37.769984</td>\n",
       "      <td>-122.412088</td>\n",
       "      <td>{'type': 'Point', 'coordinates': [37.769984, -...</td>\n",
       "      <td>vegan_venues</td>\n",
       "      <td>1105</td>\n",
       "    </tr>\n",
       "    <tr>\n",
       "      <th>3</th>\n",
       "      <td>Hella Vegan Eats</td>\n",
       "      <td>37.770233</td>\n",
       "      <td>-122.414000</td>\n",
       "      <td>{'type': 'Point', 'coordinates': [37.770232781...</td>\n",
       "      <td>vegan_venues</td>\n",
       "      <td>1179</td>\n",
       "    </tr>\n",
       "    <tr>\n",
       "      <th>4</th>\n",
       "      <td>Golden Era Vegan</td>\n",
       "      <td>37.781495</td>\n",
       "      <td>-122.416822</td>\n",
       "      <td>{'type': 'Point', 'coordinates': [37.781494739...</td>\n",
       "      <td>vegan_venues</td>\n",
       "      <td>1043</td>\n",
       "    </tr>\n",
       "    <tr>\n",
       "      <th>...</th>\n",
       "      <td>...</td>\n",
       "      <td>...</td>\n",
       "      <td>...</td>\n",
       "      <td>...</td>\n",
       "      <td>...</td>\n",
       "      <td>...</td>\n",
       "    </tr>\n",
       "    <tr>\n",
       "      <th>72</th>\n",
       "      <td>Victoria Manalo Draves Basketball Court</td>\n",
       "      <td>37.777412</td>\n",
       "      <td>-122.406676</td>\n",
       "      <td>{'type': 'Point', 'coordinates': [37.777412, -...</td>\n",
       "      <td>basketball_courts</td>\n",
       "      <td>152</td>\n",
       "    </tr>\n",
       "    <tr>\n",
       "      <th>73</th>\n",
       "      <td>Basketball Court at Avalon II</td>\n",
       "      <td>37.775857</td>\n",
       "      <td>-122.394397</td>\n",
       "      <td>{'type': 'Point', 'coordinates': [37.775856959...</td>\n",
       "      <td>basketball_courts</td>\n",
       "      <td>1027</td>\n",
       "    </tr>\n",
       "    <tr>\n",
       "      <th>74</th>\n",
       "      <td>Avalon Basketball Court</td>\n",
       "      <td>37.776619</td>\n",
       "      <td>-122.393181</td>\n",
       "      <td>{'type': 'Point', 'coordinates': [37.776618957...</td>\n",
       "      <td>basketball_courts</td>\n",
       "      <td>1111</td>\n",
       "    </tr>\n",
       "    <tr>\n",
       "      <th>75</th>\n",
       "      <td>Berry Basketball Courts</td>\n",
       "      <td>37.771911</td>\n",
       "      <td>-122.397931</td>\n",
       "      <td>{'type': 'Point', 'coordinates': [37.771911126...</td>\n",
       "      <td>basketball_courts</td>\n",
       "      <td>994</td>\n",
       "    </tr>\n",
       "    <tr>\n",
       "      <th>76</th>\n",
       "      <td>Hayward Playground Basketball Courts</td>\n",
       "      <td>37.780822</td>\n",
       "      <td>-122.426292</td>\n",
       "      <td>{'type': 'Point', 'coordinates': [37.780822448...</td>\n",
       "      <td>basketball_courts</td>\n",
       "      <td>1839</td>\n",
       "    </tr>\n",
       "  </tbody>\n",
       "</table>\n",
       "<p>77 rows × 6 columns</p>\n",
       "</div>"
      ],
      "text/plain": [
       "                                       name        lat         lon  \\\n",
       "0                               Vegan Plaza  37.781963 -122.409698   \n",
       "1                           The Happy Vegan  37.780403 -122.395739   \n",
       "2                         Very Vegan Sunday  37.769984 -122.412088   \n",
       "3                          Hella Vegan Eats  37.770233 -122.414000   \n",
       "4                          Golden Era Vegan  37.781495 -122.416822   \n",
       "..                                      ...        ...         ...   \n",
       "72  Victoria Manalo Draves Basketball Court  37.777412 -122.406676   \n",
       "73            Basketball Court at Avalon II  37.775857 -122.394397   \n",
       "74                  Avalon Basketball Court  37.776619 -122.393181   \n",
       "75                  Berry Basketball Courts  37.771911 -122.397931   \n",
       "76     Hayward Playground Basketball Courts  37.780822 -122.426292   \n",
       "\n",
       "                                             location           category  \\\n",
       "0   {'type': 'Point', 'coordinates': [37.781963348...       vegan_venues   \n",
       "1   {'type': 'Point', 'coordinates': [37.780403, -...       vegan_venues   \n",
       "2   {'type': 'Point', 'coordinates': [37.769984, -...       vegan_venues   \n",
       "3   {'type': 'Point', 'coordinates': [37.770232781...       vegan_venues   \n",
       "4   {'type': 'Point', 'coordinates': [37.781494739...       vegan_venues   \n",
       "..                                                ...                ...   \n",
       "72  {'type': 'Point', 'coordinates': [37.777412, -...  basketball_courts   \n",
       "73  {'type': 'Point', 'coordinates': [37.775856959...  basketball_courts   \n",
       "74  {'type': 'Point', 'coordinates': [37.776618957...  basketball_courts   \n",
       "75  {'type': 'Point', 'coordinates': [37.771911126...  basketball_courts   \n",
       "76  {'type': 'Point', 'coordinates': [37.780822448...  basketball_courts   \n",
       "\n",
       "    distance  \n",
       "0        530  \n",
       "1        892  \n",
       "2       1105  \n",
       "3       1179  \n",
       "4       1043  \n",
       "..       ...  \n",
       "72       152  \n",
       "73      1027  \n",
       "74      1111  \n",
       "75       994  \n",
       "76      1839  \n",
       "\n",
       "[77 rows x 6 columns]"
      ]
     },
     "execution_count": 123,
     "metadata": {},
     "output_type": "execute_result"
    }
   ],
   "source": [
    "dfsanfran"
   ]
  },
  {
   "cell_type": "code",
   "execution_count": 124,
   "id": "40cdd074",
   "metadata": {},
   "outputs": [],
   "source": [
    "def label_race (row):\n",
    "    if dfsanfran['category'] == 'vegan_venues' :\n",
    "        return marks['vegan_venues']*row"
   ]
  },
  {
   "cell_type": "code",
   "execution_count": 125,
   "id": "81b5d9b0",
   "metadata": {},
   "outputs": [],
   "source": [
    "def punct(df):  \n",
    "    o = []\n",
    "    for i,row in df.iterrows():\n",
    "        if row['category'] == \"vegan_venues\":\n",
    "            o.append(row['distance']*marks['vegan_venues'])\n",
    "\n",
    "        elif row['category'] == \"starbucks\":\n",
    "            o.append(row['distance']*marks['starbucks'])\n",
    "\n",
    "        elif row['category'] == \"schools\":\n",
    "            o.append(row['distance']*marks['schools'])\n",
    "\n",
    "        elif row['category'] == \"train_stations\":\n",
    "            o.append(row['distance']*marks['train_stations'])\n",
    "\n",
    "        elif row['category'] == \"basketball_courts\":\n",
    "            o.append(row['distance']*marks['basketball_courts'])\n",
    "    df['punctuation'] = o\n",
    "    return df['punctuation']"
   ]
  },
  {
   "cell_type": "code",
   "execution_count": 126,
   "id": "0aa6d618",
   "metadata": {},
   "outputs": [
    {
     "data": {
      "text/plain": [
       "0     133.80\n",
       "1     131.00\n",
       "2     261.20\n",
       "3     124.20\n",
       "4      52.00\n",
       "       ...  \n",
       "89    560.00\n",
       "90    288.00\n",
       "91    172.80\n",
       "92     22.80\n",
       "93    246.75\n",
       "Name: punctuation, Length: 94, dtype: float64"
      ]
     },
     "execution_count": 126,
     "metadata": {},
     "output_type": "execute_result"
    }
   ],
   "source": [
    "punct(dfsanfran)\n",
    "punct(dfell)\n",
    "punct(dfbro)"
   ]
  },
  {
   "cell_type": "code",
   "execution_count": 143,
   "id": "48cd2583",
   "metadata": {},
   "outputs": [
    {
     "data": {
      "text/plain": [
       "224.09948538011696"
      ]
     },
     "execution_count": 143,
     "metadata": {},
     "output_type": "execute_result"
    }
   ],
   "source": [
    "pundfsanfran = dfsanfran.groupby('category').agg({'punctuation':'mean'}).reset_index()\n",
    "meansanfran = sum([i for i in pundfsanfran['punctuation']])/len(pundfsanfran['punctuation'])\n",
    "meansanfran"
   ]
  },
  {
   "cell_type": "code",
   "execution_count": 145,
   "id": "a3763a7a",
   "metadata": {},
   "outputs": [
    {
     "data": {
      "text/plain": [
       "152.3375"
      ]
     },
     "execution_count": 145,
     "metadata": {},
     "output_type": "execute_result"
    }
   ],
   "source": [
    "pundfell = dfell.groupby('category').agg({'punctuation':'mean'}).reset_index()\n",
    "meanell = sum([i for i in pundfell['punctuation']])/len(pundfell['punctuation'])\n",
    "meanell"
   ]
  },
  {
   "cell_type": "code",
   "execution_count": 146,
   "id": "147ff8e1",
   "metadata": {},
   "outputs": [
    {
     "data": {
      "text/plain": [
       "188.23766917293233"
      ]
     },
     "execution_count": 146,
     "metadata": {},
     "output_type": "execute_result"
    }
   ],
   "source": [
    "pundfbro = dfbro.groupby('category').agg({'punctuation':'mean'}).reset_index()\n",
    "meanbrooklyn = sum([i for i in pundfbro['punctuation']])/len(pundfbro['punctuation'])\n",
    "meanbrooklyn"
   ]
  },
  {
   "cell_type": "code",
   "execution_count": 167,
   "id": "f5152339",
   "metadata": {},
   "outputs": [],
   "source": [
    "means = [meansanfran, meanell, meanbrooklyn]\n",
    "columns = ['San Francisco', 'Ellensburg', 'Brooklyn']"
   ]
  },
  {
   "cell_type": "code",
   "execution_count": 169,
   "id": "7d1318c4",
   "metadata": {},
   "outputs": [],
   "source": [
    "df = pd.DataFrame(means)"
   ]
  },
  {
   "cell_type": "code",
   "execution_count": 170,
   "id": "d2c072d6",
   "metadata": {},
   "outputs": [
    {
     "data": {
      "text/html": [
       "<div>\n",
       "<style scoped>\n",
       "    .dataframe tbody tr th:only-of-type {\n",
       "        vertical-align: middle;\n",
       "    }\n",
       "\n",
       "    .dataframe tbody tr th {\n",
       "        vertical-align: top;\n",
       "    }\n",
       "\n",
       "    .dataframe thead th {\n",
       "        text-align: right;\n",
       "    }\n",
       "</style>\n",
       "<table border=\"1\" class=\"dataframe\">\n",
       "  <thead>\n",
       "    <tr style=\"text-align: right;\">\n",
       "      <th></th>\n",
       "      <th>0</th>\n",
       "    </tr>\n",
       "  </thead>\n",
       "  <tbody>\n",
       "    <tr>\n",
       "      <th>0</th>\n",
       "      <td>224.099485</td>\n",
       "    </tr>\n",
       "    <tr>\n",
       "      <th>1</th>\n",
       "      <td>152.337500</td>\n",
       "    </tr>\n",
       "    <tr>\n",
       "      <th>2</th>\n",
       "      <td>188.237669</td>\n",
       "    </tr>\n",
       "  </tbody>\n",
       "</table>\n",
       "</div>"
      ],
      "text/plain": [
       "            0\n",
       "0  224.099485\n",
       "1  152.337500\n",
       "2  188.237669"
      ]
     },
     "execution_count": 170,
     "metadata": {},
     "output_type": "execute_result"
    }
   ],
   "source": [
    "df"
   ]
  },
  {
   "cell_type": "code",
   "execution_count": null,
   "id": "50f6fe67",
   "metadata": {},
   "outputs": [],
   "source": []
  },
  {
   "cell_type": "code",
   "execution_count": null,
   "id": "72d2b62e",
   "metadata": {},
   "outputs": [],
   "source": []
  }
 ],
 "metadata": {
  "kernelspec": {
   "display_name": "iron",
   "language": "python",
   "name": "iron"
  },
  "language_info": {
   "codemirror_mode": {
    "name": "ipython",
    "version": 3
   },
   "file_extension": ".py",
   "mimetype": "text/x-python",
   "name": "python",
   "nbconvert_exporter": "python",
   "pygments_lexer": "ipython3",
   "version": "3.9.7"
  },
  "toc": {
   "base_numbering": 1,
   "nav_menu": {},
   "number_sections": true,
   "sideBar": true,
   "skip_h1_title": false,
   "title_cell": "Table of Contents",
   "title_sidebar": "Contents",
   "toc_cell": false,
   "toc_position": {},
   "toc_section_display": true,
   "toc_window_display": false
  }
 },
 "nbformat": 4,
 "nbformat_minor": 5
}
