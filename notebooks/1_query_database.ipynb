{
 "cells": [
  {
   "cell_type": "code",
   "execution_count": 3,
   "id": "79d62048",
   "metadata": {},
   "outputs": [],
   "source": [
    "from pymongo import MongoClient\n",
    "import pandas as pd"
   ]
  },
  {
   "cell_type": "markdown",
   "id": "da1dbf02",
   "metadata": {},
   "source": [
    "# Connecting to MongoDB in order to make the queries"
   ]
  },
  {
   "cell_type": "code",
   "execution_count": 4,
   "id": "12a2ce30",
   "metadata": {},
   "outputs": [],
   "source": [
    "client =  MongoClient(\"localhost:27017\")"
   ]
  },
  {
   "cell_type": "code",
   "execution_count": 5,
   "id": "2d8d92c0",
   "metadata": {},
   "outputs": [
    {
     "data": {
      "text/plain": [
       "['admin', 'companies', 'config', 'geo', 'ironhack', 'local']"
      ]
     },
     "execution_count": 5,
     "metadata": {},
     "output_type": "execute_result"
    }
   ],
   "source": [
    "client.list_database_names()"
   ]
  },
  {
   "cell_type": "code",
   "execution_count": 6,
   "id": "75a3a725",
   "metadata": {},
   "outputs": [],
   "source": [
    "db = client.get_database(\"ironhack\")"
   ]
  },
  {
   "cell_type": "markdown",
   "id": "ccc1e086",
   "metadata": {},
   "source": [
    "# Connecting to the collection \"companies\", from which I will filter"
   ]
  },
  {
   "cell_type": "code",
   "execution_count": 7,
   "id": "a153c9f9",
   "metadata": {},
   "outputs": [],
   "source": [
    "companies = db.get_collection(\"companies\")"
   ]
  },
  {
   "cell_type": "markdown",
   "id": "87400801",
   "metadata": {},
   "source": [
    "# Making the query to find only the companies that do design"
   ]
  },
  {
   "cell_type": "code",
   "execution_count": 6,
   "id": "263ee85b",
   "metadata": {},
   "outputs": [],
   "source": [
    "proy = {\"_id\":0,'offices': 1, \"name\": 1,'category_code':1}"
   ]
  },
  {
   "cell_type": "code",
   "execution_count": 7,
   "id": "0de81ae4",
   "metadata": {},
   "outputs": [],
   "source": [
    "query = {'category_code':'design'}"
   ]
  },
  {
   "cell_type": "code",
   "execution_count": 8,
   "id": "b7c5240d",
   "metadata": {},
   "outputs": [],
   "source": [
    "selected_offices = list(companies.find(query,proy))"
   ]
  },
  {
   "cell_type": "markdown",
   "id": "07ace552",
   "metadata": {},
   "source": [
    "# I am choosing only USA because it is the country with the most starbucks per capita after Monaco (which is not in the database) [see information here](https://www.silverdoorapartments.com/blog/which-country-has-the-most-starbucks-per-1000000-inhabitants/)"
   ]
  },
  {
   "cell_type": "code",
   "execution_count": 9,
   "id": "efc345d3",
   "metadata": {},
   "outputs": [],
   "source": [
    "queryusa = {'$and':[{'category_code':'design'},{'offices.country_code':'USA'}]}"
   ]
  },
  {
   "cell_type": "code",
   "execution_count": 10,
   "id": "9981ecda",
   "metadata": {},
   "outputs": [
    {
     "data": {
      "text/plain": [
       "[{'name': '99designs',\n",
       "  'category_code': 'design',\n",
       "  'offices': [{'description': 'United States (HQ)',\n",
       "    'address1': '447 Battery St.',\n",
       "    'address2': '3rd Floor',\n",
       "    'zip_code': '94111',\n",
       "    'city': 'San Francisco',\n",
       "    'state_code': 'CA',\n",
       "    'country_code': 'USA',\n",
       "    'latitude': 37.7955307,\n",
       "    'longitude': -122.4005983},\n",
       "   {'description': 'Australia',\n",
       "    'address1': '204 Wellington St.',\n",
       "    'address2': '',\n",
       "    'zip_code': '3065',\n",
       "    'city': 'Collingwood',\n",
       "    'state_code': None,\n",
       "    'country_code': 'AUS',\n",
       "    'latitude': -37.8026587,\n",
       "    'longitude': 144.9868546},\n",
       "   {'description': 'Europe',\n",
       "    'address1': 'Schlesische Str. 29-30',\n",
       "    'address2': '',\n",
       "    'zip_code': '',\n",
       "    'city': 'Berlin',\n",
       "    'state_code': None,\n",
       "    'country_code': 'DEU',\n",
       "    'latitude': 52.4986199,\n",
       "    'longitude': 13.4469031}]},\n",
       " {'name': 'Graticle',\n",
       "  'category_code': 'design',\n",
       "  'offices': [{'description': 'Office',\n",
       "    'address1': '100 E. Third Ave. #373',\n",
       "    'address2': '',\n",
       "    'zip_code': '98926',\n",
       "    'city': 'Ellensburg',\n",
       "    'state_code': 'WA',\n",
       "    'country_code': 'USA',\n",
       "    'latitude': 45.7968414,\n",
       "    'longitude': -122.6931439}]},\n",
       " {'name': 'Kickstarter',\n",
       "  'category_code': 'design',\n",
       "  'offices': [{'description': '',\n",
       "    'address1': '58 Kent St',\n",
       "    'address2': '',\n",
       "    'zip_code': '11222',\n",
       "    'city': 'Brooklyn',\n",
       "    'state_code': 'NY',\n",
       "    'country_code': 'USA',\n",
       "    'latitude': None,\n",
       "    'longitude': None}]}]"
      ]
     },
     "execution_count": 10,
     "metadata": {},
     "output_type": "execute_result"
    }
   ],
   "source": [
    "onlyusa = list(companies.find(queryusa,proy))\n",
    "onlyusa"
   ]
  },
  {
   "cell_type": "markdown",
   "id": "75962fb8",
   "metadata": {},
   "source": [
    "There is a company (99 designs) that has some branches outside USA, so I am removing them from the list"
   ]
  },
  {
   "cell_type": "code",
   "execution_count": 11,
   "id": "14872f11",
   "metadata": {},
   "outputs": [],
   "source": [
    "onlyusa[0]['offices']=onlyusa[0]['offices'][0]"
   ]
  },
  {
   "cell_type": "code",
   "execution_count": 12,
   "id": "84f6f8a9",
   "metadata": {},
   "outputs": [
    {
     "data": {
      "text/plain": [
       "[{'name': '99designs',\n",
       "  'category_code': 'design',\n",
       "  'offices': {'description': 'United States (HQ)',\n",
       "   'address1': '447 Battery St.',\n",
       "   'address2': '3rd Floor',\n",
       "   'zip_code': '94111',\n",
       "   'city': 'San Francisco',\n",
       "   'state_code': 'CA',\n",
       "   'country_code': 'USA',\n",
       "   'latitude': 37.7955307,\n",
       "   'longitude': -122.4005983}},\n",
       " {'name': 'Graticle',\n",
       "  'category_code': 'design',\n",
       "  'offices': [{'description': 'Office',\n",
       "    'address1': '100 E. Third Ave. #373',\n",
       "    'address2': '',\n",
       "    'zip_code': '98926',\n",
       "    'city': 'Ellensburg',\n",
       "    'state_code': 'WA',\n",
       "    'country_code': 'USA',\n",
       "    'latitude': 45.7968414,\n",
       "    'longitude': -122.6931439}]},\n",
       " {'name': 'Kickstarter',\n",
       "  'category_code': 'design',\n",
       "  'offices': [{'description': '',\n",
       "    'address1': '58 Kent St',\n",
       "    'address2': '',\n",
       "    'zip_code': '11222',\n",
       "    'city': 'Brooklyn',\n",
       "    'state_code': 'NY',\n",
       "    'country_code': 'USA',\n",
       "    'latitude': None,\n",
       "    'longitude': None}]}]"
      ]
     },
     "execution_count": 12,
     "metadata": {},
     "output_type": "execute_result"
    }
   ],
   "source": [
    "onlyusa"
   ]
  }
 ],
 "metadata": {
  "kernelspec": {
   "display_name": "iron",
   "language": "python",
   "name": "iron"
  },
  "language_info": {
   "codemirror_mode": {
    "name": "ipython",
    "version": 3
   },
   "file_extension": ".py",
   "mimetype": "text/x-python",
   "name": "python",
   "nbconvert_exporter": "python",
   "pygments_lexer": "ipython3",
   "version": "3.9.7"
  },
  "toc": {
   "base_numbering": 1,
   "nav_menu": {},
   "number_sections": true,
   "sideBar": true,
   "skip_h1_title": false,
   "title_cell": "Table of Contents",
   "title_sidebar": "Contents",
   "toc_cell": false,
   "toc_position": {},
   "toc_section_display": true,
   "toc_window_display": false
  }
 },
 "nbformat": 4,
 "nbformat_minor": 5
}
