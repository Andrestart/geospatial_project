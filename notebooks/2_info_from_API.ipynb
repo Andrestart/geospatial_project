{
 "cells": [
  {
   "cell_type": "code",
   "execution_count": 1,
   "id": "cb6a9f1c",
   "metadata": {},
   "outputs": [],
   "source": [
    "import os\n",
    "from dotenv import load_dotenv\n",
    "import requests\n",
    "import json\n",
    "import time\n",
    "from functools import reduce\n",
    "import operator\n",
    "import pandas as pd"
   ]
  },
  {
   "cell_type": "markdown",
   "id": "93b6f953",
   "metadata": {},
   "source": [
    "The list of cities I got from the database filtering is the following:"
   ]
  },
  {
   "cell_type": "code",
   "execution_count": 2,
   "id": "4c444e7f",
   "metadata": {},
   "outputs": [],
   "source": [
    "cities = ['San Francisco, CA, USA', 'Ellensburg, WA, USA', 'Brooklyn, NY, USA']"
   ]
  },
  {
   "cell_type": "code",
   "execution_count": 3,
   "id": "abf20ba0",
   "metadata": {},
   "outputs": [],
   "source": [
    "cities_short = [i.split(\",\")[0] for i in cities]"
   ]
  },
  {
   "cell_type": "code",
   "execution_count": 4,
   "id": "462d8bb5",
   "metadata": {},
   "outputs": [],
   "source": [
    "if not os.path.exists(f\"../newdata\"):\n",
    "    os.mkdir(f\"../newdata\")"
   ]
  },
  {
   "cell_type": "code",
   "execution_count": 5,
   "id": "44e579a4",
   "metadata": {},
   "outputs": [
    {
     "data": {
      "text/plain": [
       "True"
      ]
     },
     "execution_count": 5,
     "metadata": {},
     "output_type": "execute_result"
    }
   ],
   "source": [
    "load_dotenv()"
   ]
  },
  {
   "cell_type": "code",
   "execution_count": 6,
   "id": "0e254dbe",
   "metadata": {},
   "outputs": [],
   "source": [
    "client_id = os.getenv(\"tok1\")\n",
    "client_secret = os.getenv(\"tok2\")"
   ]
  },
  {
   "cell_type": "code",
   "execution_count": 7,
   "id": "83ae6851",
   "metadata": {},
   "outputs": [],
   "source": [
    "def geocode(direccion):\n",
    "    \"\"\"\n",
    "    Esta función saca las coordenadas de la dirección que le pases\n",
    "    \"\"\"\n",
    "    time.sleep(3)\n",
    "    data = requests.get(f\"https://geocode.xyz/{direccion}?json=1\").json()\n",
    "    try:\n",
    "        return {\"type\": \"Point\", \"coordinates\": [data[\"latt\"], data[\"longt\"]]}\n",
    "    except:\n",
    "        return data"
   ]
  },
  {
   "cell_type": "code",
   "execution_count": 8,
   "id": "7afa5db9",
   "metadata": {},
   "outputs": [],
   "source": [
    "sanfrancisco = {'type': 'Point', 'coordinates':[37.778480215129015, -122.40559118863916]}\n",
    "ellensburg =  {'type': 'Point', 'coordinates':[46.996517823587766, -120.54550769638885]}\n",
    "brooklyn =  {'type': 'Point', 'coordinates':[40.692147496548735, -73.98495174207916]}"
   ]
  },
  {
   "cell_type": "code",
   "execution_count": 9,
   "id": "e78f4379",
   "metadata": {},
   "outputs": [],
   "source": [
    "queries = [\"vegan\", \"starbucks\", \"school\",\"train station subway\", \"basketball court\" ]"
   ]
  },
  {
   "cell_type": "code",
   "execution_count": 10,
   "id": "f95687d5",
   "metadata": {},
   "outputs": [],
   "source": [
    "def getFromDict(diccionario,mapa):\n",
    "    return reduce (operator.getitem,mapa,diccionario)"
   ]
  },
  {
   "cell_type": "code",
   "execution_count": 11,
   "id": "18e77c65",
   "metadata": {},
   "outputs": [],
   "source": [
    "def get_data (latitude, longitude, query):\n",
    "    d = {}\n",
    "    time.sleep(2)\n",
    "    parametres = {\"client_id\" : client_id,\n",
    "              \"client_secret\" : client_secret,\n",
    "              \"v\": \"20180323\",\n",
    "              \"ll\": f\"{latitude},{longitude}\", \n",
    "              \"query\":query,\n",
    "              \"limit\": 100}\n",
    "    time.sleep(1)\n",
    "\n",
    "    resp = requests.get(url= 'https://api.foursquare.com/v2/venues/search', params=parametres).json()\n",
    "\n",
    "    return resp"
   ]
  },
  {
   "cell_type": "code",
   "execution_count": 12,
   "id": "9ddcfca2",
   "metadata": {},
   "outputs": [],
   "source": [
    "def respven(dic):\n",
    "    return dic['response']['venues']"
   ]
  },
  {
   "cell_type": "code",
   "execution_count": 13,
   "id": "48a242be",
   "metadata": {},
   "outputs": [],
   "source": [
    "def extraetodo(json):\n",
    "    todo = {\"name\": [\"name\"], \"lat\": [\"location\", \"lat\"], \"lon\": [\"location\", \"lng\"], \"distance\":['location', 'distance']} \n",
    "    total = []\n",
    "    for elemento in json:\n",
    "        dic = {key: getFromDict(elemento, value) for key,value in todo.items()}\n",
    "        dic[\"location\"] = {'type': 'Point', 'coordinates': [dic[\"lat\"], dic[\"lon\"]]}\n",
    "        total.append(dic)\n",
    "    return total"
   ]
  },
  {
   "cell_type": "code",
   "execution_count": 14,
   "id": "54167799",
   "metadata": {},
   "outputs": [],
   "source": [
    "def fin(city, n):\n",
    "    return extraetodo(respven(get_data(city['coordinates'][0], city['coordinates'][1], queries[n])))"
   ]
  },
  {
   "cell_type": "code",
   "execution_count": 15,
   "id": "306a522a",
   "metadata": {},
   "outputs": [],
   "source": [
    "def todf(fincity):\n",
    "    fordf = []\n",
    "    for dic in fincity:\n",
    "            for i in dic:\n",
    "                todf = {}\n",
    "                todf[\"name\"] = getFromDict(i,[\"name\"])\n",
    "                todf[\"lat\"] = getFromDict(i,[\"lat\"])\n",
    "                todf[\"lon\"] = getFromDict(i,[\"lon\"])\n",
    "                todf[\"location\"] = getFromDict(i,[\"location\"])\n",
    "                todf[\"category\"] = getFromDict(i,[\"category\"])\n",
    "                todf[\"distance\"] = getFromDict (i,[\"distance\"])\n",
    "                fordf.append(todf)\n",
    "    df = pd.DataFrame(fordf)\n",
    "    return df"
   ]
  },
  {
   "cell_type": "code",
   "execution_count": 16,
   "id": "6ae0c2ce",
   "metadata": {},
   "outputs": [],
   "source": [
    "def dropbydist(df, dis, cat):\n",
    "    return df.drop(df[(df.distance > dis) & (df.category == cat)].index, inplace=True)"
   ]
  },
  {
   "cell_type": "code",
   "execution_count": 17,
   "id": "0cde620b",
   "metadata": {},
   "outputs": [],
   "source": [
    "category = [\"vegan_venues\", \"starbucks\", \"schools\",\"train_stations\", \"basketball_courts\" ]"
   ]
  },
  {
   "cell_type": "markdown",
   "id": "0288428c",
   "metadata": {},
   "source": [
    "# San Fracisco"
   ]
  },
  {
   "cell_type": "code",
   "execution_count": 18,
   "id": "8073dadd",
   "metadata": {},
   "outputs": [],
   "source": [
    "vegsanfrancisco = fin(sanfrancisco, 0)\n",
    "for  i in  vegsanfrancisco:\n",
    "    i['category']= 'vegan_venues'\n",
    "    \n",
    "stasanfrancisco = fin(sanfrancisco, 1)\n",
    "for  i in  stasanfrancisco:\n",
    "    i['category']= 'starbucks'\n",
    "    \n",
    "schsanfrancisco = fin(sanfrancisco, 2)\n",
    "for  i in  schsanfrancisco:\n",
    "    i['category']= 'schools'\n",
    "\n",
    "trasanfrancisco = fin(sanfrancisco, 3)\n",
    "for  i in  trasanfrancisco:\n",
    "    i['category']= 'train_stations'\n",
    "\n",
    "bassanfrancisco = fin(sanfrancisco, 4)\n",
    "for  i in  bassanfrancisco:\n",
    "    i['category']= 'basketball_courts'"
   ]
  },
  {
   "cell_type": "code",
   "execution_count": 19,
   "id": "a37bfdee",
   "metadata": {},
   "outputs": [],
   "source": [
    "finsanfrancisco = [vegsanfrancisco,stasanfrancisco, schsanfrancisco, trasanfrancisco, bassanfrancisco]"
   ]
  },
  {
   "cell_type": "code",
   "execution_count": 20,
   "id": "dcf4ca0c",
   "metadata": {},
   "outputs": [],
   "source": [
    "dfsanfrancisco = todf(finsanfrancisco)"
   ]
  },
  {
   "cell_type": "code",
   "execution_count": 21,
   "id": "542c8494",
   "metadata": {},
   "outputs": [],
   "source": [
    "dropbydist(dfsanfrancisco, 1500, category[0])\n",
    "dropbydist(dfsanfrancisco, 1300, category[1])\n",
    "dropbydist(dfsanfrancisco, 3000, category[2])\n",
    "dropbydist(dfsanfrancisco, 2500, category[3])\n",
    "dropbydist(dfsanfrancisco, 2000, category[4])"
   ]
  },
  {
   "cell_type": "code",
   "execution_count": 36,
   "id": "066cf3a1",
   "metadata": {},
   "outputs": [],
   "source": [
    "dfsanfrancisco.to_csv(f\"../newdata/dfsanfran.csv\", index = False)"
   ]
  },
  {
   "cell_type": "markdown",
   "id": "6ab76128",
   "metadata": {},
   "source": [
    "# Ellensburg"
   ]
  },
  {
   "cell_type": "code",
   "execution_count": 24,
   "id": "2edfb9c4",
   "metadata": {},
   "outputs": [],
   "source": [
    "vegell = fin(ellensburg, 0)\n",
    "for  i in  vegell:\n",
    "    i['category'] = 'vegan_venues'\n",
    "    \n",
    "staell = fin(ellensburg, 1)\n",
    "for  i in  staell:\n",
    "    i['category'] = 'starbucks'\n",
    "\n",
    "schell = fin(ellensburg, 2)\n",
    "for  i in  schell:\n",
    "    i['category'] = 'schools'\n",
    "\n",
    "traell = fin(ellensburg, 3)\n",
    "for  i in  traell:\n",
    "    i['category'] = 'train_stations'\n",
    "\n",
    "basell = fin(ellensburg, 4)\n",
    "for  i in  basell:\n",
    "    i['category'] = 'basketball_courts'"
   ]
  },
  {
   "cell_type": "code",
   "execution_count": 25,
   "id": "75a50bf2",
   "metadata": {},
   "outputs": [],
   "source": [
    "finellensburg = [vegell, staell, schell, traell, basell]"
   ]
  },
  {
   "cell_type": "code",
   "execution_count": 26,
   "id": "2e12551c",
   "metadata": {},
   "outputs": [],
   "source": [
    "dfellensburg = todf(finellensburg)"
   ]
  },
  {
   "cell_type": "code",
   "execution_count": 27,
   "id": "ca80d4b4",
   "metadata": {},
   "outputs": [],
   "source": [
    "dropbydist(dfellensburg, 1500, category[0])\n",
    "dropbydist(dfellensburg, 1300, category[1])\n",
    "dropbydist(dfellensburg, 3000, category[2])\n",
    "dropbydist(dfellensburg, 2500, category[3])\n",
    "dropbydist(dfellensburg, 2000, category[4])"
   ]
  },
  {
   "cell_type": "code",
   "execution_count": 28,
   "id": "b287d9d7",
   "metadata": {},
   "outputs": [
    {
     "data": {
      "text/html": [
       "<div>\n",
       "<style scoped>\n",
       "    .dataframe tbody tr th:only-of-type {\n",
       "        vertical-align: middle;\n",
       "    }\n",
       "\n",
       "    .dataframe tbody tr th {\n",
       "        vertical-align: top;\n",
       "    }\n",
       "\n",
       "    .dataframe thead th {\n",
       "        text-align: right;\n",
       "    }\n",
       "</style>\n",
       "<table border=\"1\" class=\"dataframe\">\n",
       "  <thead>\n",
       "    <tr style=\"text-align: right;\">\n",
       "      <th></th>\n",
       "      <th>name</th>\n",
       "      <th>lat</th>\n",
       "      <th>lon</th>\n",
       "      <th>location</th>\n",
       "      <th>category</th>\n",
       "      <th>distance</th>\n",
       "    </tr>\n",
       "  </thead>\n",
       "  <tbody>\n",
       "    <tr>\n",
       "      <th>0</th>\n",
       "      <td>Starbucks</td>\n",
       "      <td>46.996148</td>\n",
       "      <td>-120.543582</td>\n",
       "      <td>{'type': 'Point', 'coordinates': [46.996148021...</td>\n",
       "      <td>starbucks</td>\n",
       "      <td>151</td>\n",
       "    </tr>\n",
       "    <tr>\n",
       "      <th>1</th>\n",
       "      <td>Starbucks</td>\n",
       "      <td>46.991140</td>\n",
       "      <td>-120.551027</td>\n",
       "      <td>{'type': 'Point', 'coordinates': [46.99114, -1...</td>\n",
       "      <td>starbucks</td>\n",
       "      <td>730</td>\n",
       "    </tr>\n",
       "    <tr>\n",
       "      <th>2</th>\n",
       "      <td>Starbucks</td>\n",
       "      <td>47.001745</td>\n",
       "      <td>-120.534619</td>\n",
       "      <td>{'type': 'Point', 'coordinates': [47.001745253...</td>\n",
       "      <td>starbucks</td>\n",
       "      <td>1010</td>\n",
       "    </tr>\n",
       "    <tr>\n",
       "      <th>10</th>\n",
       "      <td>Ellensburg High School</td>\n",
       "      <td>46.991577</td>\n",
       "      <td>-120.545212</td>\n",
       "      <td>{'type': 'Point', 'coordinates': [46.991577148...</td>\n",
       "      <td>schools</td>\n",
       "      <td>550</td>\n",
       "    </tr>\n",
       "    <tr>\n",
       "      <th>11</th>\n",
       "      <td>Ellensburg washington school of karate</td>\n",
       "      <td>46.995197</td>\n",
       "      <td>-120.545502</td>\n",
       "      <td>{'type': 'Point', 'coordinates': [46.995197296...</td>\n",
       "      <td>schools</td>\n",
       "      <td>147</td>\n",
       "    </tr>\n",
       "    <tr>\n",
       "      <th>12</th>\n",
       "      <td>Morgan Middle School</td>\n",
       "      <td>46.992395</td>\n",
       "      <td>-120.543012</td>\n",
       "      <td>{'type': 'Point', 'coordinates': [46.992395107...</td>\n",
       "      <td>schools</td>\n",
       "      <td>496</td>\n",
       "    </tr>\n",
       "    <tr>\n",
       "      <th>13</th>\n",
       "      <td>Ellensburg Montessori School</td>\n",
       "      <td>46.997812</td>\n",
       "      <td>-120.536559</td>\n",
       "      <td>{'type': 'Point', 'coordinates': [46.997812, -...</td>\n",
       "      <td>schools</td>\n",
       "      <td>694</td>\n",
       "    </tr>\n",
       "    <tr>\n",
       "      <th>14</th>\n",
       "      <td>Lincoln Elementary School</td>\n",
       "      <td>46.990882</td>\n",
       "      <td>-120.539754</td>\n",
       "      <td>{'type': 'Point', 'coordinates': [46.990882, -...</td>\n",
       "      <td>schools</td>\n",
       "      <td>764</td>\n",
       "    </tr>\n",
       "    <tr>\n",
       "      <th>15</th>\n",
       "      <td>Ellensburg Christian School</td>\n",
       "      <td>46.988830</td>\n",
       "      <td>-120.541613</td>\n",
       "      <td>{'type': 'Point', 'coordinates': [46.988829824...</td>\n",
       "      <td>schools</td>\n",
       "      <td>905</td>\n",
       "    </tr>\n",
       "    <tr>\n",
       "      <th>44</th>\n",
       "      <td>Northern Pacific Train Station</td>\n",
       "      <td>46.993900</td>\n",
       "      <td>-120.554924</td>\n",
       "      <td>{'type': 'Point', 'coordinates': [46.993900299...</td>\n",
       "      <td>train_stations</td>\n",
       "      <td>772</td>\n",
       "    </tr>\n",
       "    <tr>\n",
       "      <th>46</th>\n",
       "      <td>Basket Ball Court</td>\n",
       "      <td>47.004113</td>\n",
       "      <td>-120.534198</td>\n",
       "      <td>{'type': 'Point', 'coordinates': [47.004113, -...</td>\n",
       "      <td>basketball_courts</td>\n",
       "      <td>1205</td>\n",
       "    </tr>\n",
       "    <tr>\n",
       "      <th>47</th>\n",
       "      <td>CWU Tennis Courts</td>\n",
       "      <td>47.003421</td>\n",
       "      <td>-120.536248</td>\n",
       "      <td>{'type': 'Point', 'coordinates': [47.003421383...</td>\n",
       "      <td>basketball_courts</td>\n",
       "      <td>1041</td>\n",
       "    </tr>\n",
       "    <tr>\n",
       "      <th>48</th>\n",
       "      <td>University Court</td>\n",
       "      <td>47.013638</td>\n",
       "      <td>-120.539031</td>\n",
       "      <td>{'type': 'Point', 'coordinates': [47.013638, -...</td>\n",
       "      <td>basketball_courts</td>\n",
       "      <td>1968</td>\n",
       "    </tr>\n",
       "    <tr>\n",
       "      <th>49</th>\n",
       "      <td>Kittitas County Courthouse</td>\n",
       "      <td>46.997214</td>\n",
       "      <td>-120.550232</td>\n",
       "      <td>{'type': 'Point', 'coordinates': [46.997214363...</td>\n",
       "      <td>basketball_courts</td>\n",
       "      <td>366</td>\n",
       "    </tr>\n",
       "  </tbody>\n",
       "</table>\n",
       "</div>"
      ],
      "text/plain": [
       "                                      name        lat         lon  \\\n",
       "0                                Starbucks  46.996148 -120.543582   \n",
       "1                                Starbucks  46.991140 -120.551027   \n",
       "2                                Starbucks  47.001745 -120.534619   \n",
       "10                  Ellensburg High School  46.991577 -120.545212   \n",
       "11  Ellensburg washington school of karate  46.995197 -120.545502   \n",
       "12                    Morgan Middle School  46.992395 -120.543012   \n",
       "13            Ellensburg Montessori School  46.997812 -120.536559   \n",
       "14               Lincoln Elementary School  46.990882 -120.539754   \n",
       "15             Ellensburg Christian School  46.988830 -120.541613   \n",
       "44          Northern Pacific Train Station  46.993900 -120.554924   \n",
       "46                       Basket Ball Court  47.004113 -120.534198   \n",
       "47                       CWU Tennis Courts  47.003421 -120.536248   \n",
       "48                        University Court  47.013638 -120.539031   \n",
       "49              Kittitas County Courthouse  46.997214 -120.550232   \n",
       "\n",
       "                                             location           category  \\\n",
       "0   {'type': 'Point', 'coordinates': [46.996148021...          starbucks   \n",
       "1   {'type': 'Point', 'coordinates': [46.99114, -1...          starbucks   \n",
       "2   {'type': 'Point', 'coordinates': [47.001745253...          starbucks   \n",
       "10  {'type': 'Point', 'coordinates': [46.991577148...            schools   \n",
       "11  {'type': 'Point', 'coordinates': [46.995197296...            schools   \n",
       "12  {'type': 'Point', 'coordinates': [46.992395107...            schools   \n",
       "13  {'type': 'Point', 'coordinates': [46.997812, -...            schools   \n",
       "14  {'type': 'Point', 'coordinates': [46.990882, -...            schools   \n",
       "15  {'type': 'Point', 'coordinates': [46.988829824...            schools   \n",
       "44  {'type': 'Point', 'coordinates': [46.993900299...     train_stations   \n",
       "46  {'type': 'Point', 'coordinates': [47.004113, -...  basketball_courts   \n",
       "47  {'type': 'Point', 'coordinates': [47.003421383...  basketball_courts   \n",
       "48  {'type': 'Point', 'coordinates': [47.013638, -...  basketball_courts   \n",
       "49  {'type': 'Point', 'coordinates': [46.997214363...  basketball_courts   \n",
       "\n",
       "    distance  \n",
       "0        151  \n",
       "1        730  \n",
       "2       1010  \n",
       "10       550  \n",
       "11       147  \n",
       "12       496  \n",
       "13       694  \n",
       "14       764  \n",
       "15       905  \n",
       "44       772  \n",
       "46      1205  \n",
       "47      1041  \n",
       "48      1968  \n",
       "49       366  "
      ]
     },
     "execution_count": 28,
     "metadata": {},
     "output_type": "execute_result"
    }
   ],
   "source": [
    "dfellensburg"
   ]
  },
  {
   "cell_type": "code",
   "execution_count": 29,
   "id": "e9aafa79",
   "metadata": {},
   "outputs": [],
   "source": [
    "dfellensburg.to_csv(f\"../newdata/dfellensburg.csv\", index = False)"
   ]
  },
  {
   "cell_type": "markdown",
   "id": "c58fcbe6",
   "metadata": {},
   "source": [
    "# Brooklyn"
   ]
  },
  {
   "cell_type": "code",
   "execution_count": 30,
   "id": "c98ce9d0",
   "metadata": {},
   "outputs": [],
   "source": [
    "vegbro = fin(brooklyn, 0)\n",
    "for  i in  vegbro:\n",
    "    i['category'] = 'vegan_venues'\n",
    "\n",
    "stabro = fin(brooklyn, 1)\n",
    "for  i in  stabro:\n",
    "    i['category'] = 'starbucks'\n",
    "    \n",
    "schbro = fin(brooklyn, 2)\n",
    "for  i in  schbro:\n",
    "    i['category'] = 'schools'\n",
    "    \n",
    "trabro = fin(brooklyn, 3)\n",
    "for  i in  trabro:\n",
    "    i['category'] = 'train_stations'\n",
    "\n",
    "basbro = fin(brooklyn, 4)\n",
    "for  i in  basbro:\n",
    "    i['category'] = 'basketball_courts'"
   ]
  },
  {
   "cell_type": "code",
   "execution_count": 31,
   "id": "7a9d382f",
   "metadata": {},
   "outputs": [],
   "source": [
    "finbrooklyn = [vegbro, stabro, schbro, trabro, basbro]"
   ]
  },
  {
   "cell_type": "code",
   "execution_count": 32,
   "id": "30af8b35",
   "metadata": {},
   "outputs": [],
   "source": [
    "dfbrooklyn = todf(finbrooklyn)"
   ]
  },
  {
   "cell_type": "code",
   "execution_count": 33,
   "id": "c36910b4",
   "metadata": {},
   "outputs": [],
   "source": [
    "dropbydist(dfbrooklyn, 1500, category[0])\n",
    "dropbydist(dfbrooklyn, 1300, category[1])\n",
    "dropbydist(dfbrooklyn, 3000, category[2])\n",
    "dropbydist(dfbrooklyn, 2500, category[3])\n",
    "dropbydist(dfbrooklyn, 2000, category[4])"
   ]
  },
  {
   "cell_type": "code",
   "execution_count": 34,
   "id": "81108ccd",
   "metadata": {},
   "outputs": [],
   "source": [
    "dfbrooklyn.to_csv(f\"../newdata/dfbrooklyn.csv\", index = False)"
   ]
  },
  {
   "cell_type": "code",
   "execution_count": 35,
   "id": "c8fc417a",
   "metadata": {},
   "outputs": [
    {
     "data": {
      "text/html": [
       "<div>\n",
       "<style scoped>\n",
       "    .dataframe tbody tr th:only-of-type {\n",
       "        vertical-align: middle;\n",
       "    }\n",
       "\n",
       "    .dataframe tbody tr th {\n",
       "        vertical-align: top;\n",
       "    }\n",
       "\n",
       "    .dataframe thead th {\n",
       "        text-align: right;\n",
       "    }\n",
       "</style>\n",
       "<table border=\"1\" class=\"dataframe\">\n",
       "  <thead>\n",
       "    <tr style=\"text-align: right;\">\n",
       "      <th></th>\n",
       "      <th>name</th>\n",
       "      <th>lat</th>\n",
       "      <th>lon</th>\n",
       "      <th>location</th>\n",
       "      <th>category</th>\n",
       "      <th>distance</th>\n",
       "    </tr>\n",
       "  </thead>\n",
       "  <tbody>\n",
       "    <tr>\n",
       "      <th>0</th>\n",
       "      <td>Try Vegan</td>\n",
       "      <td>40.697583</td>\n",
       "      <td>-73.981548</td>\n",
       "      <td>{'type': 'Point', 'coordinates': [40.697582909...</td>\n",
       "      <td>vegan_venues</td>\n",
       "      <td>669</td>\n",
       "    </tr>\n",
       "    <tr>\n",
       "      <th>12</th>\n",
       "      <td>Betty Bakery</td>\n",
       "      <td>40.686385</td>\n",
       "      <td>-73.983350</td>\n",
       "      <td>{'type': 'Point', 'coordinates': [40.686384555...</td>\n",
       "      <td>vegan_venues</td>\n",
       "      <td>655</td>\n",
       "    </tr>\n",
       "    <tr>\n",
       "      <th>36</th>\n",
       "      <td>LuAnne's Wild Ginger</td>\n",
       "      <td>40.689644</td>\n",
       "      <td>-73.969824</td>\n",
       "      <td>{'type': 'Point', 'coordinates': [40.689644, -...</td>\n",
       "      <td>vegan_venues</td>\n",
       "      <td>1306</td>\n",
       "    </tr>\n",
       "    <tr>\n",
       "      <th>39</th>\n",
       "      <td>Wild Ginger</td>\n",
       "      <td>40.687898</td>\n",
       "      <td>-73.989730</td>\n",
       "      <td>{'type': 'Point', 'coordinates': [40.687897607...</td>\n",
       "      <td>vegan_venues</td>\n",
       "      <td>621</td>\n",
       "    </tr>\n",
       "    <tr>\n",
       "      <th>50</th>\n",
       "      <td>Starbucks</td>\n",
       "      <td>40.694019</td>\n",
       "      <td>-73.986800</td>\n",
       "      <td>{'type': 'Point', 'coordinates': [40.694019, -...</td>\n",
       "      <td>starbucks</td>\n",
       "      <td>260</td>\n",
       "    </tr>\n",
       "    <tr>\n",
       "      <th>...</th>\n",
       "      <td>...</td>\n",
       "      <td>...</td>\n",
       "      <td>...</td>\n",
       "      <td>...</td>\n",
       "      <td>...</td>\n",
       "      <td>...</td>\n",
       "    </tr>\n",
       "    <tr>\n",
       "      <th>188</th>\n",
       "      <td>MTA Subway - East Broadway (F)</td>\n",
       "      <td>40.713973</td>\n",
       "      <td>-73.990125</td>\n",
       "      <td>{'type': 'Point', 'coordinates': [40.713973175...</td>\n",
       "      <td>train_stations</td>\n",
       "      <td>2468</td>\n",
       "    </tr>\n",
       "    <tr>\n",
       "      <th>190</th>\n",
       "      <td>MTA Subway - Smith/9th St (F/G)</td>\n",
       "      <td>40.674128</td>\n",
       "      <td>-73.996774</td>\n",
       "      <td>{'type': 'Point', 'coordinates': [40.674127996...</td>\n",
       "      <td>train_stations</td>\n",
       "      <td>2240</td>\n",
       "    </tr>\n",
       "    <tr>\n",
       "      <th>193</th>\n",
       "      <td>MTA Subway - Lafayette Ave (C)</td>\n",
       "      <td>40.686082</td>\n",
       "      <td>-73.973891</td>\n",
       "      <td>{'type': 'Point', 'coordinates': [40.686081961...</td>\n",
       "      <td>train_stations</td>\n",
       "      <td>1152</td>\n",
       "    </tr>\n",
       "    <tr>\n",
       "      <th>200</th>\n",
       "      <td>State Street Basketball Court</td>\n",
       "      <td>40.691670</td>\n",
       "      <td>-73.998587</td>\n",
       "      <td>{'type': 'Point', 'coordinates': [40.69167, -7...</td>\n",
       "      <td>basketball_courts</td>\n",
       "      <td>1152</td>\n",
       "    </tr>\n",
       "    <tr>\n",
       "      <th>201</th>\n",
       "      <td>Forest Park Basketball Courts</td>\n",
       "      <td>40.693512</td>\n",
       "      <td>-73.984741</td>\n",
       "      <td>{'type': 'Point', 'coordinates': [40.693511962...</td>\n",
       "      <td>basketball_courts</td>\n",
       "      <td>152</td>\n",
       "    </tr>\n",
       "  </tbody>\n",
       "</table>\n",
       "<p>93 rows × 6 columns</p>\n",
       "</div>"
      ],
      "text/plain": [
       "                                name        lat        lon  \\\n",
       "0                          Try Vegan  40.697583 -73.981548   \n",
       "12                      Betty Bakery  40.686385 -73.983350   \n",
       "36              LuAnne's Wild Ginger  40.689644 -73.969824   \n",
       "39                       Wild Ginger  40.687898 -73.989730   \n",
       "50                         Starbucks  40.694019 -73.986800   \n",
       "..                               ...        ...        ...   \n",
       "188   MTA Subway - East Broadway (F)  40.713973 -73.990125   \n",
       "190  MTA Subway - Smith/9th St (F/G)  40.674128 -73.996774   \n",
       "193   MTA Subway - Lafayette Ave (C)  40.686082 -73.973891   \n",
       "200    State Street Basketball Court  40.691670 -73.998587   \n",
       "201    Forest Park Basketball Courts  40.693512 -73.984741   \n",
       "\n",
       "                                              location           category  \\\n",
       "0    {'type': 'Point', 'coordinates': [40.697582909...       vegan_venues   \n",
       "12   {'type': 'Point', 'coordinates': [40.686384555...       vegan_venues   \n",
       "36   {'type': 'Point', 'coordinates': [40.689644, -...       vegan_venues   \n",
       "39   {'type': 'Point', 'coordinates': [40.687897607...       vegan_venues   \n",
       "50   {'type': 'Point', 'coordinates': [40.694019, -...          starbucks   \n",
       "..                                                 ...                ...   \n",
       "188  {'type': 'Point', 'coordinates': [40.713973175...     train_stations   \n",
       "190  {'type': 'Point', 'coordinates': [40.674127996...     train_stations   \n",
       "193  {'type': 'Point', 'coordinates': [40.686081961...     train_stations   \n",
       "200  {'type': 'Point', 'coordinates': [40.69167, -7...  basketball_courts   \n",
       "201  {'type': 'Point', 'coordinates': [40.693511962...  basketball_courts   \n",
       "\n",
       "     distance  \n",
       "0         669  \n",
       "12        655  \n",
       "36       1306  \n",
       "39        621  \n",
       "50        260  \n",
       "..        ...  \n",
       "188      2468  \n",
       "190      2240  \n",
       "193      1152  \n",
       "200      1152  \n",
       "201       152  \n",
       "\n",
       "[93 rows x 6 columns]"
      ]
     },
     "execution_count": 35,
     "metadata": {},
     "output_type": "execute_result"
    }
   ],
   "source": [
    "dfbrooklyn"
   ]
  },
  {
   "cell_type": "code",
   "execution_count": null,
   "id": "8b6e8913",
   "metadata": {},
   "outputs": [],
   "source": []
  }
 ],
 "metadata": {
  "kernelspec": {
   "display_name": "iron",
   "language": "python",
   "name": "iron"
  },
  "language_info": {
   "codemirror_mode": {
    "name": "ipython",
    "version": 3
   },
   "file_extension": ".py",
   "mimetype": "text/x-python",
   "name": "python",
   "nbconvert_exporter": "python",
   "pygments_lexer": "ipython3",
   "version": "3.9.7"
  },
  "toc": {
   "base_numbering": 1,
   "nav_menu": {},
   "number_sections": true,
   "sideBar": true,
   "skip_h1_title": false,
   "title_cell": "Table of Contents",
   "title_sidebar": "Contents",
   "toc_cell": false,
   "toc_position": {},
   "toc_section_display": true,
   "toc_window_display": false
  }
 },
 "nbformat": 4,
 "nbformat_minor": 5
}
