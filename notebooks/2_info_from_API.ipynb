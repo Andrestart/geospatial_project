{
 "cells": [
  {
   "cell_type": "code",
   "execution_count": 1,
   "id": "1b65a8ad",
   "metadata": {},
   "outputs": [],
   "source": [
    "import sys\n",
    "sys.path.append('../')"
   ]
  },
  {
   "cell_type": "code",
   "execution_count": 2,
   "id": "cb6a9f1c",
   "metadata": {},
   "outputs": [],
   "source": [
    "import os\n",
    "from dotenv import load_dotenv\n",
    "import requests\n",
    "import json\n",
    "import time\n",
    "from functools import reduce\n",
    "import operator\n",
    "import pandas as pd\n",
    "import src.functions as f"
   ]
  },
  {
   "cell_type": "markdown",
   "id": "93b6f953",
   "metadata": {},
   "source": [
    "The list of cities I got from the database filtering is the following:"
   ]
  },
  {
   "cell_type": "code",
   "execution_count": 3,
   "id": "4c444e7f",
   "metadata": {},
   "outputs": [],
   "source": [
    "cities = ['San Francisco, CA, USA', 'Ellensburg, WA, USA', 'Brooklyn, NY, USA']"
   ]
  },
  {
   "cell_type": "markdown",
   "id": "193653f6",
   "metadata": {},
   "source": [
    "Making the names of the cities shorter"
   ]
  },
  {
   "cell_type": "code",
   "execution_count": 4,
   "id": "abf20ba0",
   "metadata": {},
   "outputs": [],
   "source": [
    "cities_short = [i.split(\",\")[0] for i in cities]"
   ]
  },
  {
   "cell_type": "markdown",
   "id": "cfcc169e",
   "metadata": {},
   "source": [
    "Creating a folder called \"newdata\" where I will save all my processed dataframes"
   ]
  },
  {
   "cell_type": "code",
   "execution_count": 5,
   "id": "462d8bb5",
   "metadata": {},
   "outputs": [],
   "source": [
    "if not os.path.exists(f\"../newdata\"):\n",
    "    os.mkdir(f\"../newdata\")"
   ]
  },
  {
   "cell_type": "markdown",
   "id": "907d2be9",
   "metadata": {},
   "source": [
    "Preparing the .env file, where I saved the 4square API tokens."
   ]
  },
  {
   "cell_type": "code",
   "execution_count": 6,
   "id": "44e579a4",
   "metadata": {},
   "outputs": [
    {
     "data": {
      "text/plain": [
       "True"
      ]
     },
     "execution_count": 6,
     "metadata": {},
     "output_type": "execute_result"
    }
   ],
   "source": [
    "load_dotenv()"
   ]
  },
  {
   "cell_type": "code",
   "execution_count": 7,
   "id": "0e254dbe",
   "metadata": {},
   "outputs": [],
   "source": [
    "client_id = os.getenv(\"tok1\")\n",
    "client_secret = os.getenv(\"tok2\")"
   ]
  },
  {
   "cell_type": "markdown",
   "id": "eb6f5658",
   "metadata": {},
   "source": [
    "The coordinates below are the ones from the city center of the cities I got from filtering the database."
   ]
  },
  {
   "cell_type": "code",
   "execution_count": 8,
   "id": "7afa5db9",
   "metadata": {},
   "outputs": [],
   "source": [
    "sanfrancisco = {'type': 'Point', 'coordinates':[37.778480215129015, -122.40559118863916]}\n",
    "ellensburg =  {'type': 'Point', 'coordinates':[46.996517823587766, -120.54550769638885]}\n",
    "brooklyn =  {'type': 'Point', 'coordinates':[40.692147496548735, -73.98495174207916]}"
   ]
  },
  {
   "cell_type": "markdown",
   "id": "b6d2fafe",
   "metadata": {},
   "source": [
    "These are the queries I want to make in order to find how far the cities coordinates are from these locations."
   ]
  },
  {
   "cell_type": "code",
   "execution_count": 9,
   "id": "e78f4379",
   "metadata": {},
   "outputs": [],
   "source": [
    "queries = [\"vegan\", \"starbucks\", \"school\",\"train station subway\", \"basketball court\"]"
   ]
  },
  {
   "cell_type": "markdown",
   "id": "3ae13281",
   "metadata": {},
   "source": []
  },
  {
   "cell_type": "code",
   "execution_count": 10,
   "id": "f95687d5",
   "metadata": {},
   "outputs": [],
   "source": [
    "def getFromDict(diccionario,mapa):\n",
    "    return reduce (operator.getitem,mapa,diccionario)"
   ]
  },
  {
   "cell_type": "code",
   "execution_count": 11,
   "id": "18e77c65",
   "metadata": {},
   "outputs": [],
   "source": [
    "def get_data (latitude, longitude, query):\n",
    "    d = {}\n",
    "    time.sleep(2)\n",
    "    parametres = {\"client_id\" : client_id,\n",
    "              \"client_secret\" : client_secret,\n",
    "              \"v\": \"20180323\",\n",
    "              \"ll\": f\"{latitude},{longitude}\", \n",
    "              \"query\":query,\n",
    "              \"limit\": 100}\n",
    "    time.sleep(1)\n",
    "\n",
    "    resp = requests.get(url= 'https://api.foursquare.com/v2/venues/search', params=parametres).json()\n",
    "\n",
    "    return resp"
   ]
  },
  {
   "cell_type": "code",
   "execution_count": 12,
   "id": "9ddcfca2",
   "metadata": {},
   "outputs": [],
   "source": [
    "def respven(dic):\n",
    "    return dic['response']['venues']"
   ]
  },
  {
   "cell_type": "code",
   "execution_count": 13,
   "id": "48a242be",
   "metadata": {},
   "outputs": [],
   "source": [
    "def extraetodo(json):\n",
    "    todo = {\"name\": [\"name\"], \"lat\": [\"location\", \"lat\"], \"lon\": [\"location\", \"lng\"], \"distance\":['location', 'distance']} \n",
    "    total = []\n",
    "    for elemento in json:\n",
    "        dic = {key: getFromDict(elemento, value) for key,value in todo.items()}\n",
    "        dic[\"location\"] = {'type': 'Point', 'coordinates': [dic[\"lat\"], dic[\"lon\"]]}\n",
    "        total.append(dic)\n",
    "    return total"
   ]
  },
  {
   "cell_type": "code",
   "execution_count": 14,
   "id": "54167799",
   "metadata": {},
   "outputs": [],
   "source": [
    "def fin(city, n):\n",
    "    return extraetodo(respven(get_data(city['coordinates'][0], city['coordinates'][1], queries[n])))"
   ]
  },
  {
   "cell_type": "code",
   "execution_count": 15,
   "id": "306a522a",
   "metadata": {},
   "outputs": [],
   "source": [
    "def todf(fincity):\n",
    "    fordf = []\n",
    "    for dic in fincity:\n",
    "            for i in dic:\n",
    "                todf = {}\n",
    "                todf[\"name\"] = getFromDict(i,[\"name\"])\n",
    "                todf[\"lat\"] = getFromDict(i,[\"lat\"])\n",
    "                todf[\"lon\"] = getFromDict(i,[\"lon\"])\n",
    "                todf[\"location\"] = getFromDict(i,[\"location\"])\n",
    "                todf[\"category\"] = getFromDict(i,[\"category\"])\n",
    "                todf[\"distance\"] = getFromDict (i,[\"distance\"])\n",
    "                fordf.append(todf)\n",
    "    df = pd.DataFrame(fordf)\n",
    "    return df"
   ]
  },
  {
   "cell_type": "code",
   "execution_count": 16,
   "id": "6ae0c2ce",
   "metadata": {},
   "outputs": [],
   "source": [
    "def dropbydist(df, dis, cat):\n",
    "    return df.drop(df[(df.distance > dis) & (df.category == cat)].index, inplace=True)"
   ]
  },
  {
   "cell_type": "markdown",
   "id": "8365b3e8",
   "metadata": {},
   "source": [
    "These are the name of the data categories, which are based in my queries."
   ]
  },
  {
   "cell_type": "code",
   "execution_count": 17,
   "id": "7f6a1f4c",
   "metadata": {},
   "outputs": [],
   "source": [
    "category = [\"vegan_venues\", \"starbucks\", \"schools\",\"train_stations\", \"basketball_courts\" ]"
   ]
  },
  {
   "cell_type": "markdown",
   "id": "4bd6bb9a",
   "metadata": {},
   "source": [
    "# Making the API call and creating the cleaned dataframe from the API data"
   ]
  },
  {
   "cell_type": "markdown",
   "id": "0288428c",
   "metadata": {},
   "source": [
    "## San Fracisco"
   ]
  },
  {
   "cell_type": "code",
   "execution_count": 20,
   "id": "8073dadd",
   "metadata": {},
   "outputs": [],
   "source": [
    "vegsanfrancisco = fin(sanfrancisco, 0)\n",
    "for  i in  vegsanfrancisco:\n",
    "    i['category']= 'vegan_venues'\n",
    "    \n",
    "stasanfrancisco = fin(sanfrancisco, 1)\n",
    "for  i in  stasanfrancisco:\n",
    "    i['category']= 'starbucks'\n",
    "    \n",
    "schsanfrancisco = fin(sanfrancisco, 2)\n",
    "for  i in  schsanfrancisco:\n",
    "    i['category']= 'schools'\n",
    "\n",
    "trasanfrancisco = fin(sanfrancisco, 3)\n",
    "for  i in  trasanfrancisco:\n",
    "    i['category']= 'train_stations'\n",
    "\n",
    "bassanfrancisco = fin(sanfrancisco, 4)\n",
    "for  i in  bassanfrancisco:\n",
    "    i['category']= 'basketball_courts'"
   ]
  },
  {
   "cell_type": "code",
   "execution_count": 21,
   "id": "a37bfdee",
   "metadata": {},
   "outputs": [],
   "source": [
    "finsanfrancisco = [vegsanfrancisco,stasanfrancisco, schsanfrancisco, trasanfrancisco, bassanfrancisco]"
   ]
  },
  {
   "cell_type": "code",
   "execution_count": 22,
   "id": "dcf4ca0c",
   "metadata": {},
   "outputs": [],
   "source": [
    "dfsanfrancisco = f.todf(finsanfrancisco)"
   ]
  },
  {
   "cell_type": "code",
   "execution_count": 23,
   "id": "542c8494",
   "metadata": {},
   "outputs": [],
   "source": [
    "dropbydist(dfsanfrancisco, 1500, category[0])\n",
    "dropbydist(dfsanfrancisco, 1300, category[1])\n",
    "dropbydist(dfsanfrancisco, 3000, category[2])\n",
    "dropbydist(dfsanfrancisco, 2500, category[3])\n",
    "dropbydist(dfsanfrancisco, 2000, category[4])"
   ]
  },
  {
   "cell_type": "code",
   "execution_count": 24,
   "id": "066cf3a1",
   "metadata": {},
   "outputs": [],
   "source": [
    "dfsanfrancisco.to_csv(f\"../newdata/dfsanfran.csv\", index = False)"
   ]
  },
  {
   "cell_type": "markdown",
   "id": "6ab76128",
   "metadata": {},
   "source": [
    "## Ellensburg"
   ]
  },
  {
   "cell_type": "code",
   "execution_count": 25,
   "id": "2edfb9c4",
   "metadata": {},
   "outputs": [],
   "source": [
    "vegell = fin(ellensburg, 0)\n",
    "for  i in  vegell:\n",
    "    i['category'] = 'vegan_venues'\n",
    "    \n",
    "staell = fin(ellensburg, 1)\n",
    "for  i in  staell:\n",
    "    i['category'] = 'starbucks'\n",
    "\n",
    "schell = fin(ellensburg, 2)\n",
    "for  i in  schell:\n",
    "    i['category'] = 'schools'\n",
    "\n",
    "traell = fin(ellensburg, 3)\n",
    "for  i in  traell:\n",
    "    i['category'] = 'train_stations'\n",
    "\n",
    "basell = fin(ellensburg, 4)\n",
    "for  i in  basell:\n",
    "    i['category'] = 'basketball_courts'"
   ]
  },
  {
   "cell_type": "code",
   "execution_count": 26,
   "id": "75a50bf2",
   "metadata": {},
   "outputs": [],
   "source": [
    "finellensburg = [vegell, staell, schell, traell, basell]"
   ]
  },
  {
   "cell_type": "code",
   "execution_count": 27,
   "id": "2e12551c",
   "metadata": {},
   "outputs": [],
   "source": [
    "dfellensburg = todf(finellensburg)"
   ]
  },
  {
   "cell_type": "code",
   "execution_count": 28,
   "id": "ca80d4b4",
   "metadata": {},
   "outputs": [],
   "source": [
    "dropbydist(dfellensburg, 1500, category[0])\n",
    "dropbydist(dfellensburg, 1300, category[1])\n",
    "dropbydist(dfellensburg, 3000, category[2])\n",
    "dropbydist(dfellensburg, 2500, category[3])\n",
    "dropbydist(dfellensburg, 2000, category[4])"
   ]
  },
  {
   "cell_type": "code",
   "execution_count": 30,
   "id": "e9aafa79",
   "metadata": {},
   "outputs": [],
   "source": [
    "dfellensburg.to_csv(f\"../newdata/dfellensburg.csv\", index = False)"
   ]
  },
  {
   "cell_type": "markdown",
   "id": "c58fcbe6",
   "metadata": {},
   "source": [
    "## Brooklyn"
   ]
  },
  {
   "cell_type": "code",
   "execution_count": 31,
   "id": "c98ce9d0",
   "metadata": {},
   "outputs": [],
   "source": [
    "vegbro = fin(brooklyn, 0)\n",
    "for  i in  vegbro:\n",
    "    i['category'] = 'vegan_venues'\n",
    "\n",
    "stabro = fin(brooklyn, 1)\n",
    "for  i in  stabro:\n",
    "    i['category'] = 'starbucks'\n",
    "    \n",
    "schbro = fin(brooklyn, 2)\n",
    "for  i in  schbro:\n",
    "    i['category'] = 'schools'\n",
    "    \n",
    "trabro = fin(brooklyn, 3)\n",
    "for  i in  trabro:\n",
    "    i['category'] = 'train_stations'\n",
    "\n",
    "basbro = fin(brooklyn, 4)\n",
    "for  i in  basbro:\n",
    "    i['category'] = 'basketball_courts'"
   ]
  },
  {
   "cell_type": "code",
   "execution_count": 32,
   "id": "7a9d382f",
   "metadata": {},
   "outputs": [],
   "source": [
    "finbrooklyn = [vegbro, stabro, schbro, trabro, basbro]"
   ]
  },
  {
   "cell_type": "code",
   "execution_count": 33,
   "id": "30af8b35",
   "metadata": {},
   "outputs": [],
   "source": [
    "dfbrooklyn = todf(finbrooklyn)"
   ]
  },
  {
   "cell_type": "code",
   "execution_count": 34,
   "id": "c36910b4",
   "metadata": {},
   "outputs": [],
   "source": [
    "dropbydist(dfbrooklyn, 1500, category[0])\n",
    "dropbydist(dfbrooklyn, 1300, category[1])\n",
    "dropbydist(dfbrooklyn, 3000, category[2])\n",
    "dropbydist(dfbrooklyn, 2500, category[3])\n",
    "dropbydist(dfbrooklyn, 2000, category[4])"
   ]
  },
  {
   "cell_type": "code",
   "execution_count": 35,
   "id": "81108ccd",
   "metadata": {},
   "outputs": [],
   "source": [
    "dfbrooklyn.to_csv(f\"../newdata/dfbrooklyn.csv\", index = False)"
   ]
  },
  {
   "cell_type": "code",
   "execution_count": null,
   "id": "8b6e8913",
   "metadata": {},
   "outputs": [],
   "source": []
  }
 ],
 "metadata": {
  "kernelspec": {
   "display_name": "iron",
   "language": "python",
   "name": "iron"
  },
  "language_info": {
   "codemirror_mode": {
    "name": "ipython",
    "version": 3
   },
   "file_extension": ".py",
   "mimetype": "text/x-python",
   "name": "python",
   "nbconvert_exporter": "python",
   "pygments_lexer": "ipython3",
   "version": "3.9.7"
  },
  "toc": {
   "base_numbering": 1,
   "nav_menu": {},
   "number_sections": true,
   "sideBar": true,
   "skip_h1_title": false,
   "title_cell": "Table of Contents",
   "title_sidebar": "Contents",
   "toc_cell": false,
   "toc_position": {},
   "toc_section_display": true,
   "toc_window_display": false
  }
 },
 "nbformat": 4,
 "nbformat_minor": 5
}
