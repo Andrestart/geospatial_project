{
 "cells": [
  {
   "cell_type": "code",
   "execution_count": 1,
   "id": "706365db",
   "metadata": {},
   "outputs": [],
   "source": [
    "from pymongo import MongoClient\n",
    "from pymongo import GEOSPHERE\n",
    "import geopandas as gpd\n",
    "import pandas as pd\n",
    "import shapely"
   ]
  },
  {
   "cell_type": "code",
   "execution_count": 2,
   "id": "640459d8",
   "metadata": {},
   "outputs": [
    {
     "data": {
      "text/plain": [
       "Database(MongoClient(host=['localhost:27017'], document_class=dict, tz_aware=False, connect=True), 'ironhack')"
      ]
     },
     "execution_count": 2,
     "metadata": {},
     "output_type": "execute_result"
    }
   ],
   "source": [
    "client = MongoClient(\"localhost:27017\")\n",
    "db = client.get_database(\"ironhack\")\n",
    "db"
   ]
  },
  {
   "cell_type": "markdown",
   "id": "b6d18a21",
   "metadata": {},
   "source": [
    "# Getting dataframes per city"
   ]
  },
  {
   "cell_type": "code",
   "execution_count": 3,
   "id": "ca3c885e",
   "metadata": {},
   "outputs": [],
   "source": [
    "dfsanfran = pd.read_csv('../newdata/dfsanfran.csv')\n",
    "dfell = pd.read_csv('../newdata/dfellensburg.csv')\n",
    "dfbro = pd.read_csv('../newdata/dfbrooklyn.csv')"
   ]
  },
  {
   "cell_type": "markdown",
   "id": "5eea3986",
   "metadata": {},
   "source": [
    "# Getting mongo collections per city"
   ]
  },
  {
   "cell_type": "code",
   "execution_count": 4,
   "id": "9116224b",
   "metadata": {},
   "outputs": [],
   "source": [
    "sf = db.get_collection(\"sanfrancisco\")\n",
    "ell = db.get_collection(\"ellensburg\")\n",
    "bro = db.get_collection(\"brooklyn\")"
   ]
  },
  {
   "cell_type": "markdown",
   "id": "b7da43df",
   "metadata": {},
   "source": [
    "# Making geodataframes"
   ]
  },
  {
   "cell_type": "code",
   "execution_count": 5,
   "id": "d57582ce",
   "metadata": {},
   "outputs": [],
   "source": [
    "geosf = gpd.GeoDataFrame(dfsanfran, geometry=gpd.points_from_xy(dfsanfran.lon, dfsanfran.lat))\n",
    "geosf.drop(\"location\",axis=1, inplace=True)\n",
    "\n",
    "geoell = gpd.GeoDataFrame(dfell, geometry=gpd.points_from_xy(dfell.lon, dfell.lat))\n",
    "geoell.drop(\"location\",axis=1, inplace=True)\n",
    "\n",
    "geobro = gpd.GeoDataFrame(dfbro, geometry=gpd.points_from_xy(dfbro.lon, dfbro.lat))\n",
    "geobro.drop(\"location\",axis=1, inplace=True)"
   ]
  },
  {
   "cell_type": "markdown",
   "id": "73db49b9",
   "metadata": {},
   "source": [
    "# Creating indexes"
   ]
  },
  {
   "cell_type": "markdown",
   "id": "78c012c7",
   "metadata": {},
   "source": [
    "## San Francisco"
   ]
  },
  {
   "cell_type": "code",
   "execution_count": 6,
   "id": "7b629cd6",
   "metadata": {},
   "outputs": [
    {
     "name": "stderr",
     "output_type": "stream",
     "text": [
      "/home/andrestart/anaconda3/envs/iron/lib/python3.9/site-packages/geopandas/geodataframe.py:1350: UserWarning: Geometry column does not contain geometry.\n",
      "  warnings.warn(\"Geometry column does not contain geometry.\")\n"
     ]
    },
    {
     "data": {
      "text/plain": [
       "<pymongo.results.InsertManyResult at 0x7f89ec5b2bc0>"
      ]
     },
     "execution_count": 6,
     "metadata": {},
     "output_type": "execute_result"
    }
   ],
   "source": [
    "geosf['geometry']=geosf['geometry'].apply(lambda x:shapely.geometry.mapping(x))\n",
    "geosfdic = geosf.to_dict(orient=\"records\")\n",
    "sf.create_index([(\"geometry\", GEOSPHERE)])\n",
    "sf.insert_many(geosfdic)"
   ]
  },
  {
   "cell_type": "markdown",
   "id": "5d098779",
   "metadata": {},
   "source": [
    "## Ellensburg"
   ]
  },
  {
   "cell_type": "code",
   "execution_count": 7,
   "id": "d2c380d9",
   "metadata": {},
   "outputs": [
    {
     "name": "stderr",
     "output_type": "stream",
     "text": [
      "/home/andrestart/anaconda3/envs/iron/lib/python3.9/site-packages/geopandas/geodataframe.py:1350: UserWarning: Geometry column does not contain geometry.\n",
      "  warnings.warn(\"Geometry column does not contain geometry.\")\n"
     ]
    },
    {
     "data": {
      "text/plain": [
       "<pymongo.results.InsertManyResult at 0x7f89ec5ae540>"
      ]
     },
     "execution_count": 7,
     "metadata": {},
     "output_type": "execute_result"
    }
   ],
   "source": [
    "geoell['geometry']=geoell['geometry'].apply(lambda x:shapely.geometry.mapping(x))\n",
    "geoelldic = geoell.to_dict(orient=\"records\")\n",
    "ell.create_index([(\"geometry\", GEOSPHERE)])\n",
    "ell.insert_many(geoelldic)"
   ]
  },
  {
   "cell_type": "markdown",
   "id": "30d933ee",
   "metadata": {},
   "source": [
    "## Brooklyn"
   ]
  },
  {
   "cell_type": "code",
   "execution_count": 8,
   "id": "3e0a577e",
   "metadata": {},
   "outputs": [
    {
     "name": "stderr",
     "output_type": "stream",
     "text": [
      "/home/andrestart/anaconda3/envs/iron/lib/python3.9/site-packages/geopandas/geodataframe.py:1350: UserWarning: Geometry column does not contain geometry.\n",
      "  warnings.warn(\"Geometry column does not contain geometry.\")\n"
     ]
    },
    {
     "data": {
      "text/plain": [
       "<pymongo.results.InsertManyResult at 0x7f89e5c6de40>"
      ]
     },
     "execution_count": 8,
     "metadata": {},
     "output_type": "execute_result"
    }
   ],
   "source": [
    "geobro['geometry']=geobro['geometry'].apply(lambda x:shapely.geometry.mapping(x))\n",
    "geobrodic = geobro.to_dict(orient=\"records\")\n",
    "bro.create_index([(\"geometry\", GEOSPHERE)])\n",
    "bro.insert_many(geobrodic)"
   ]
  },
  {
   "cell_type": "code",
   "execution_count": null,
   "id": "9fa43359",
   "metadata": {},
   "outputs": [],
   "source": []
  },
  {
   "cell_type": "markdown",
   "id": "c9a10637",
   "metadata": {},
   "source": [
    "# Doing the queries"
   ]
  },
  {
   "cell_type": "code",
   "execution_count": 9,
   "id": "6fecedea",
   "metadata": {},
   "outputs": [],
   "source": [
    "sanfrancisco = {'type': 'Point', 'coordinates':[-122.40559118863916, 37.778480215129015]}\n",
    "ellensburg =  {'type': 'Point', 'coordinates':[-120.54550769638885, 46.996517823587766]}\n",
    "brooklyn =  {'type': 'Point', 'coordinates':[40.692147496548735, -73.98495174207916]}"
   ]
  },
  {
   "cell_type": "code",
   "execution_count": 10,
   "id": "7c2a6af3",
   "metadata": {},
   "outputs": [],
   "source": [
    "metres = 3000"
   ]
  },
  {
   "cell_type": "markdown",
   "id": "2e798567",
   "metadata": {},
   "source": []
  },
  {
   "cell_type": "code",
   "execution_count": 20,
   "id": "c9264a92",
   "metadata": {},
   "outputs": [],
   "source": [
    "querysf = [{\"$geoNear\": {\n",
    "            \"near\": sanfrancisco['coordinates'],\n",
    "            \"distanceField\": \"geodist\",\n",
    "            \"maxDistance\": 3000,\n",
    "            \"distanceMultiplier\" :6371,\n",
    "            \"spherical\": True}}]\n",
    "geoloc_sf = list(sf.aggregate(querysf))"
   ]
  },
  {
   "cell_type": "code",
   "execution_count": 44,
   "id": "20e056f8",
   "metadata": {},
   "outputs": [],
   "source": [
    "geoloc_sf = pd.DataFrame(geoloc_sf)\n",
    "geoloc_sf.drop(['_id','distance','geometry'], axis=1, inplace=True)"
   ]
  },
  {
   "cell_type": "code",
   "execution_count": 27,
   "id": "1d207256",
   "metadata": {},
   "outputs": [],
   "source": [
    "geoloc_sf.to_csv(f\"../newdata/dfgeosf.csv\", index = False)"
   ]
  },
  {
   "cell_type": "code",
   "execution_count": 45,
   "id": "11432ee9",
   "metadata": {},
   "outputs": [
    {
     "data": {
      "text/html": [
       "<div>\n",
       "<style scoped>\n",
       "    .dataframe tbody tr th:only-of-type {\n",
       "        vertical-align: middle;\n",
       "    }\n",
       "\n",
       "    .dataframe tbody tr th {\n",
       "        vertical-align: top;\n",
       "    }\n",
       "\n",
       "    .dataframe thead th {\n",
       "        text-align: right;\n",
       "    }\n",
       "</style>\n",
       "<table border=\"1\" class=\"dataframe\">\n",
       "  <thead>\n",
       "    <tr style=\"text-align: right;\">\n",
       "      <th></th>\n",
       "      <th>name</th>\n",
       "      <th>lat</th>\n",
       "      <th>lon</th>\n",
       "      <th>category</th>\n",
       "      <th>geodist</th>\n",
       "    </tr>\n",
       "  </thead>\n",
       "  <tbody>\n",
       "    <tr>\n",
       "      <th>0</th>\n",
       "      <td>Victoria Manalo Draves Basketball Court</td>\n",
       "      <td>37.777412</td>\n",
       "      <td>-122.406676</td>\n",
       "      <td>basketball_courts</td>\n",
       "      <td>0.152311</td>\n",
       "    </tr>\n",
       "    <tr>\n",
       "      <th>1</th>\n",
       "      <td>Bessie Carmichael Elementary School</td>\n",
       "      <td>37.776266</td>\n",
       "      <td>-122.406351</td>\n",
       "      <td>schools</td>\n",
       "      <td>0.255062</td>\n",
       "    </tr>\n",
       "    <tr>\n",
       "      <th>2</th>\n",
       "      <td>Ukrainian School Of San Francisco</td>\n",
       "      <td>37.776299</td>\n",
       "      <td>-122.406776</td>\n",
       "      <td>schools</td>\n",
       "      <td>0.264012</td>\n",
       "    </tr>\n",
       "    <tr>\n",
       "      <th>3</th>\n",
       "      <td>John Scott School Of Voice</td>\n",
       "      <td>37.781410</td>\n",
       "      <td>-122.407547</td>\n",
       "      <td>schools</td>\n",
       "      <td>0.368342</td>\n",
       "    </tr>\n",
       "    <tr>\n",
       "      <th>4</th>\n",
       "      <td>Old School Records</td>\n",
       "      <td>37.781863</td>\n",
       "      <td>-122.406024</td>\n",
       "      <td>schools</td>\n",
       "      <td>0.378114</td>\n",
       "    </tr>\n",
       "    <tr>\n",
       "      <th>...</th>\n",
       "      <td>...</td>\n",
       "      <td>...</td>\n",
       "      <td>...</td>\n",
       "      <td>...</td>\n",
       "      <td>...</td>\n",
       "    </tr>\n",
       "    <tr>\n",
       "      <th>72</th>\n",
       "      <td>Ida B. Wells High School</td>\n",
       "      <td>37.775287</td>\n",
       "      <td>-122.434482</td>\n",
       "      <td>schools</td>\n",
       "      <td>2.563845</td>\n",
       "    </tr>\n",
       "    <tr>\n",
       "      <th>73</th>\n",
       "      <td>Everett Middle School</td>\n",
       "      <td>37.763651</td>\n",
       "      <td>-122.428794</td>\n",
       "      <td>schools</td>\n",
       "      <td>2.622618</td>\n",
       "    </tr>\n",
       "    <tr>\n",
       "      <th>74</th>\n",
       "      <td>Children's Day School (Middle School) Extension</td>\n",
       "      <td>37.759659</td>\n",
       "      <td>-122.425600</td>\n",
       "      <td>schools</td>\n",
       "      <td>2.733690</td>\n",
       "    </tr>\n",
       "    <tr>\n",
       "      <th>75</th>\n",
       "      <td>Sanchez Elementary School</td>\n",
       "      <td>37.763723</td>\n",
       "      <td>-122.430825</td>\n",
       "      <td>schools</td>\n",
       "      <td>2.758956</td>\n",
       "    </tr>\n",
       "    <tr>\n",
       "      <th>76</th>\n",
       "      <td>Bay Academy School</td>\n",
       "      <td>37.783195</td>\n",
       "      <td>-122.437401</td>\n",
       "      <td>schools</td>\n",
       "      <td>2.844301</td>\n",
       "    </tr>\n",
       "  </tbody>\n",
       "</table>\n",
       "<p>77 rows × 5 columns</p>\n",
       "</div>"
      ],
      "text/plain": [
       "                                               name        lat         lon  \\\n",
       "0           Victoria Manalo Draves Basketball Court  37.777412 -122.406676   \n",
       "1               Bessie Carmichael Elementary School  37.776266 -122.406351   \n",
       "2                 Ukrainian School Of San Francisco  37.776299 -122.406776   \n",
       "3                        John Scott School Of Voice  37.781410 -122.407547   \n",
       "4                                Old School Records  37.781863 -122.406024   \n",
       "..                                              ...        ...         ...   \n",
       "72                         Ida B. Wells High School  37.775287 -122.434482   \n",
       "73                            Everett Middle School  37.763651 -122.428794   \n",
       "74  Children's Day School (Middle School) Extension  37.759659 -122.425600   \n",
       "75                        Sanchez Elementary School  37.763723 -122.430825   \n",
       "76                               Bay Academy School  37.783195 -122.437401   \n",
       "\n",
       "             category   geodist  \n",
       "0   basketball_courts  0.152311  \n",
       "1             schools  0.255062  \n",
       "2             schools  0.264012  \n",
       "3             schools  0.368342  \n",
       "4             schools  0.378114  \n",
       "..                ...       ...  \n",
       "72            schools  2.563845  \n",
       "73            schools  2.622618  \n",
       "74            schools  2.733690  \n",
       "75            schools  2.758956  \n",
       "76            schools  2.844301  \n",
       "\n",
       "[77 rows x 5 columns]"
      ]
     },
     "execution_count": 45,
     "metadata": {},
     "output_type": "execute_result"
    }
   ],
   "source": [
    "geoloc_sf"
   ]
  },
  {
   "cell_type": "code",
   "execution_count": 13,
   "id": "2aee3f37",
   "metadata": {},
   "outputs": [],
   "source": [
    "queryell = [{\"$geoNear\": {\n",
    "            \"near\": ellensburg['coordinates'],\n",
    "            \"distanceField\": \"geodist\",\n",
    "            \"maxDistance\": 3000,\n",
    "            \"distanceMultiplier\" :6371,\n",
    "            \"spherical\": True}}]\n",
    "geloc_ell = list(ell.aggregate(queryell))"
   ]
  },
  {
   "cell_type": "code",
   "execution_count": 31,
   "id": "9d4b655a",
   "metadata": {},
   "outputs": [],
   "source": [
    "geloc_ell = pd.DataFrame(geloc_ell)\n",
    "geloc_ell.drop(['_id','distance','geometry'], axis=1, inplace=True)"
   ]
  },
  {
   "cell_type": "code",
   "execution_count": 32,
   "id": "4a204674",
   "metadata": {},
   "outputs": [],
   "source": [
    "geloc_ell.to_csv(f\"../newdata/dfgeoell.csv\", index = False)"
   ]
  },
  {
   "cell_type": "code",
   "execution_count": null,
   "id": "68802a53",
   "metadata": {},
   "outputs": [],
   "source": []
  },
  {
   "cell_type": "code",
   "execution_count": null,
   "id": "f9b878ec",
   "metadata": {},
   "outputs": [],
   "source": []
  },
  {
   "cell_type": "code",
   "execution_count": 14,
   "id": "3f85d93b",
   "metadata": {},
   "outputs": [],
   "source": [
    "querybro = [{\"$geoNear\": {\n",
    "            \"near\": brooklyn['coordinates'],\n",
    "            \"distanceField\": \"geodist\",\n",
    "            \"maxDistance\": 3000,\n",
    "            \"distanceMultiplier\" :6371,\n",
    "            \"spherical\": True}}]\n",
    "geoloc_bro = list(bro.aggregate(querybro))"
   ]
  },
  {
   "cell_type": "code",
   "execution_count": 36,
   "id": "30213b78",
   "metadata": {},
   "outputs": [],
   "source": [
    "geoloc_bro = pd.DataFrame(geoloc_bro)\n",
    "geoloc_bro.drop(['_id','distance','geometry'], axis=1, inplace=True)"
   ]
  },
  {
   "cell_type": "code",
   "execution_count": 42,
   "id": "f0b32b6f",
   "metadata": {},
   "outputs": [
    {
     "data": {
      "text/html": [
       "<div>\n",
       "<style scoped>\n",
       "    .dataframe tbody tr th:only-of-type {\n",
       "        vertical-align: middle;\n",
       "    }\n",
       "\n",
       "    .dataframe tbody tr th {\n",
       "        vertical-align: top;\n",
       "    }\n",
       "\n",
       "    .dataframe thead th {\n",
       "        text-align: right;\n",
       "    }\n",
       "</style>\n",
       "<table border=\"1\" class=\"dataframe\">\n",
       "  <thead>\n",
       "    <tr style=\"text-align: right;\">\n",
       "      <th></th>\n",
       "      <th>name</th>\n",
       "      <th>lat</th>\n",
       "      <th>lon</th>\n",
       "      <th>category</th>\n",
       "      <th>geodist</th>\n",
       "    </tr>\n",
       "  </thead>\n",
       "  <tbody>\n",
       "    <tr>\n",
       "      <th>0</th>\n",
       "      <td>MTA Subway - Grand Army Plaza (2/3)</td>\n",
       "      <td>40.675184</td>\n",
       "      <td>-73.971031</td>\n",
       "      <td>train_stations</td>\n",
       "      <td>0.150718</td>\n",
       "    </tr>\n",
       "    <tr>\n",
       "      <th>1</th>\n",
       "      <td>MTA Subway - 4th Ave/9th St (F/G/R)</td>\n",
       "      <td>40.670102</td>\n",
       "      <td>-73.989461</td>\n",
       "      <td>train_stations</td>\n",
       "      <td>0.150718</td>\n",
       "    </tr>\n",
       "    <tr>\n",
       "      <th>2</th>\n",
       "      <td>PS 118 - Maurice Sedak School</td>\n",
       "      <td>40.671092</td>\n",
       "      <td>-73.987976</td>\n",
       "      <td>schools</td>\n",
       "      <td>0.150719</td>\n",
       "    </tr>\n",
       "    <tr>\n",
       "      <th>3</th>\n",
       "      <td>Berkeley Carroll (Lower School)</td>\n",
       "      <td>40.673925</td>\n",
       "      <td>-73.978320</td>\n",
       "      <td>schools</td>\n",
       "      <td>0.150719</td>\n",
       "    </tr>\n",
       "    <tr>\n",
       "      <th>4</th>\n",
       "      <td>William Alexander School MS 51</td>\n",
       "      <td>40.672444</td>\n",
       "      <td>-73.984389</td>\n",
       "      <td>schools</td>\n",
       "      <td>0.150719</td>\n",
       "    </tr>\n",
       "    <tr>\n",
       "      <th>...</th>\n",
       "      <td>...</td>\n",
       "      <td>...</td>\n",
       "      <td>...</td>\n",
       "      <td>...</td>\n",
       "      <td>...</td>\n",
       "    </tr>\n",
       "    <tr>\n",
       "      <th>88</th>\n",
       "      <td>Miami Ad School Brooklyn</td>\n",
       "      <td>40.704596</td>\n",
       "      <td>-73.987520</td>\n",
       "      <td>schools</td>\n",
       "      <td>0.150753</td>\n",
       "    </tr>\n",
       "    <tr>\n",
       "      <th>89</th>\n",
       "      <td>CASTLE Middle School</td>\n",
       "      <td>40.713364</td>\n",
       "      <td>-73.986040</td>\n",
       "      <td>schools</td>\n",
       "      <td>0.150762</td>\n",
       "    </tr>\n",
       "    <tr>\n",
       "      <th>90</th>\n",
       "      <td>Manhattan Charter School II</td>\n",
       "      <td>40.713730</td>\n",
       "      <td>-73.986433</td>\n",
       "      <td>schools</td>\n",
       "      <td>0.150763</td>\n",
       "    </tr>\n",
       "    <tr>\n",
       "      <th>91</th>\n",
       "      <td>MTA Subway - East Broadway (F)</td>\n",
       "      <td>40.713973</td>\n",
       "      <td>-73.990125</td>\n",
       "      <td>train_stations</td>\n",
       "      <td>0.150764</td>\n",
       "    </tr>\n",
       "    <tr>\n",
       "      <th>92</th>\n",
       "      <td>Mei Wah Pre-School</td>\n",
       "      <td>40.712212</td>\n",
       "      <td>-73.996681</td>\n",
       "      <td>schools</td>\n",
       "      <td>0.150764</td>\n",
       "    </tr>\n",
       "  </tbody>\n",
       "</table>\n",
       "<p>93 rows × 5 columns</p>\n",
       "</div>"
      ],
      "text/plain": [
       "                                   name        lat        lon        category  \\\n",
       "0   MTA Subway - Grand Army Plaza (2/3)  40.675184 -73.971031  train_stations   \n",
       "1   MTA Subway - 4th Ave/9th St (F/G/R)  40.670102 -73.989461  train_stations   \n",
       "2         PS 118 - Maurice Sedak School  40.671092 -73.987976         schools   \n",
       "3       Berkeley Carroll (Lower School)  40.673925 -73.978320         schools   \n",
       "4        William Alexander School MS 51  40.672444 -73.984389         schools   \n",
       "..                                  ...        ...        ...             ...   \n",
       "88             Miami Ad School Brooklyn  40.704596 -73.987520         schools   \n",
       "89                 CASTLE Middle School  40.713364 -73.986040         schools   \n",
       "90          Manhattan Charter School II  40.713730 -73.986433         schools   \n",
       "91       MTA Subway - East Broadway (F)  40.713973 -73.990125  train_stations   \n",
       "92                   Mei Wah Pre-School  40.712212 -73.996681         schools   \n",
       "\n",
       "     geodist  \n",
       "0   0.150718  \n",
       "1   0.150718  \n",
       "2   0.150719  \n",
       "3   0.150719  \n",
       "4   0.150719  \n",
       "..       ...  \n",
       "88  0.150753  \n",
       "89  0.150762  \n",
       "90  0.150763  \n",
       "91  0.150764  \n",
       "92  0.150764  \n",
       "\n",
       "[93 rows x 5 columns]"
      ]
     },
     "execution_count": 42,
     "metadata": {},
     "output_type": "execute_result"
    }
   ],
   "source": [
    "geoloc_bro['geodist'] = geoloc_bro['geodist']*100000\n",
    "geoloc_bro"
   ]
  },
  {
   "cell_type": "code",
   "execution_count": 43,
   "id": "11afa58f",
   "metadata": {},
   "outputs": [],
   "source": [
    "geoloc_bro.to_csv(f\"../newdata/dfgeobro.csv\", index = False)"
   ]
  },
  {
   "cell_type": "code",
   "execution_count": null,
   "id": "3aae76f4",
   "metadata": {},
   "outputs": [],
   "source": []
  }
 ],
 "metadata": {
  "kernelspec": {
   "display_name": "iron",
   "language": "python",
   "name": "iron"
  },
  "language_info": {
   "codemirror_mode": {
    "name": "ipython",
    "version": 3
   },
   "file_extension": ".py",
   "mimetype": "text/x-python",
   "name": "python",
   "nbconvert_exporter": "python",
   "pygments_lexer": "ipython3",
   "version": "3.9.7"
  },
  "toc": {
   "base_numbering": 1,
   "nav_menu": {},
   "number_sections": true,
   "sideBar": true,
   "skip_h1_title": false,
   "title_cell": "Table of Contents",
   "title_sidebar": "Contents",
   "toc_cell": false,
   "toc_position": {},
   "toc_section_display": true,
   "toc_window_display": false
  }
 },
 "nbformat": 4,
 "nbformat_minor": 5
}
