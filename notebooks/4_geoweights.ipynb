{
 "cells": [
  {
   "cell_type": "code",
   "execution_count": 7,
   "id": "d8530d8b",
   "metadata": {},
   "outputs": [],
   "source": [
    "import pandas as pd"
   ]
  },
  {
   "cell_type": "markdown",
   "id": "6a840375",
   "metadata": {},
   "source": [
    "# Specifying the weights per location category"
   ]
  },
  {
   "cell_type": "code",
   "execution_count": 8,
   "id": "1d2e8eba",
   "metadata": {},
   "outputs": [],
   "source": [
    "marks = {\"vegan_venues\": 0.20, \"starbucks\":0.20, \"schools\":0.20, \"train_stations\":0.25, \"basketball_courts\":0.15} "
   ]
  },
  {
   "cell_type": "markdown",
   "id": "311d8886",
   "metadata": {},
   "source": [
    "# Loading the dataframes from the Mongo geoqueries"
   ]
  },
  {
   "cell_type": "code",
   "execution_count": 75,
   "id": "6dd6a62b",
   "metadata": {},
   "outputs": [],
   "source": [
    "dfsanfran = pd.read_csv(\"../newdata/dfgeosf.csv\")\n",
    "dfell = pd.read_csv('../newdata/dfgeoell.csv')\n",
    "dfbro = pd.read_csv('../newdata/dfgeobro.csv')"
   ]
  },
  {
   "cell_type": "markdown",
   "id": "ccec95ec",
   "metadata": {},
   "source": [
    "# Making a new column with the punctuation per location (weights*distance)"
   ]
  },
  {
   "cell_type": "code",
   "execution_count": 76,
   "id": "1e0d80c8",
   "metadata": {},
   "outputs": [],
   "source": [
    "def punct(df):  \n",
    "    o = []\n",
    "    for i,row in df.iterrows():\n",
    "        if row['category'] == \"vegan_venues\":\n",
    "            o.append(row['geodist']*marks['vegan_venues'])\n",
    "\n",
    "        elif row['category'] == \"starbucks\":\n",
    "            o.append(row['geodist']*marks['starbucks'])\n",
    "\n",
    "        elif row['category'] == \"schools\":\n",
    "            o.append(row['geodist']*marks['schools'])\n",
    "\n",
    "        elif row['category'] == \"train_stations\":\n",
    "            o.append(row['geodist']*marks['train_stations'])\n",
    "\n",
    "        elif row['category'] == \"basketball_courts\":\n",
    "            o.append(row['geodist']*marks['basketball_courts'])\n",
    "    df['punctuation'] = o\n",
    "    return df['punctuation']"
   ]
  },
  {
   "cell_type": "code",
   "execution_count": 77,
   "id": "7dbff448",
   "metadata": {},
   "outputs": [
    {
     "data": {
      "text/plain": [
       "0     0.037679\n",
       "1     0.037680\n",
       "2     0.030144\n",
       "3     0.030144\n",
       "4     0.030144\n",
       "        ...   \n",
       "91    0.030150\n",
       "92    0.030151\n",
       "93    0.030153\n",
       "94    0.037691\n",
       "95    0.030153\n",
       "Name: punctuation, Length: 96, dtype: float64"
      ]
     },
     "execution_count": 77,
     "metadata": {},
     "output_type": "execute_result"
    }
   ],
   "source": [
    "punct(dfsanfran)\n",
    "punct(dfell)\n",
    "punct(dfbro)"
   ]
  },
  {
   "cell_type": "code",
   "execution_count": 78,
   "id": "7bedf05c",
   "metadata": {},
   "outputs": [
    {
     "data": {
      "text/html": [
       "<div>\n",
       "<style scoped>\n",
       "    .dataframe tbody tr th:only-of-type {\n",
       "        vertical-align: middle;\n",
       "    }\n",
       "\n",
       "    .dataframe tbody tr th {\n",
       "        vertical-align: top;\n",
       "    }\n",
       "\n",
       "    .dataframe thead th {\n",
       "        text-align: right;\n",
       "    }\n",
       "</style>\n",
       "<table border=\"1\" class=\"dataframe\">\n",
       "  <thead>\n",
       "    <tr style=\"text-align: right;\">\n",
       "      <th></th>\n",
       "      <th>name</th>\n",
       "      <th>lat</th>\n",
       "      <th>lon</th>\n",
       "      <th>category</th>\n",
       "      <th>geodist</th>\n",
       "      <th>punctuation</th>\n",
       "    </tr>\n",
       "  </thead>\n",
       "  <tbody>\n",
       "    <tr>\n",
       "      <th>0</th>\n",
       "      <td>Victoria Manalo Draves Basketball Court</td>\n",
       "      <td>37.777412</td>\n",
       "      <td>-122.406676</td>\n",
       "      <td>basketball_courts</td>\n",
       "      <td>0.152311</td>\n",
       "      <td>0.022847</td>\n",
       "    </tr>\n",
       "    <tr>\n",
       "      <th>1</th>\n",
       "      <td>Bessie Carmichael Elementary School</td>\n",
       "      <td>37.776266</td>\n",
       "      <td>-122.406351</td>\n",
       "      <td>schools</td>\n",
       "      <td>0.255062</td>\n",
       "      <td>0.051012</td>\n",
       "    </tr>\n",
       "    <tr>\n",
       "      <th>2</th>\n",
       "      <td>Ukrainian School Of San Francisco</td>\n",
       "      <td>37.776299</td>\n",
       "      <td>-122.406776</td>\n",
       "      <td>schools</td>\n",
       "      <td>0.264012</td>\n",
       "      <td>0.052802</td>\n",
       "    </tr>\n",
       "    <tr>\n",
       "      <th>3</th>\n",
       "      <td>John Scott School Of Voice</td>\n",
       "      <td>37.781410</td>\n",
       "      <td>-122.407547</td>\n",
       "      <td>schools</td>\n",
       "      <td>0.368342</td>\n",
       "      <td>0.073668</td>\n",
       "    </tr>\n",
       "    <tr>\n",
       "      <th>4</th>\n",
       "      <td>Old School Records</td>\n",
       "      <td>37.781863</td>\n",
       "      <td>-122.406024</td>\n",
       "      <td>schools</td>\n",
       "      <td>0.378114</td>\n",
       "      <td>0.075623</td>\n",
       "    </tr>\n",
       "    <tr>\n",
       "      <th>...</th>\n",
       "      <td>...</td>\n",
       "      <td>...</td>\n",
       "      <td>...</td>\n",
       "      <td>...</td>\n",
       "      <td>...</td>\n",
       "      <td>...</td>\n",
       "    </tr>\n",
       "    <tr>\n",
       "      <th>73</th>\n",
       "      <td>Ida B. Wells High School</td>\n",
       "      <td>37.775287</td>\n",
       "      <td>-122.434482</td>\n",
       "      <td>schools</td>\n",
       "      <td>2.563845</td>\n",
       "      <td>0.512769</td>\n",
       "    </tr>\n",
       "    <tr>\n",
       "      <th>74</th>\n",
       "      <td>Everett Middle School</td>\n",
       "      <td>37.763651</td>\n",
       "      <td>-122.428794</td>\n",
       "      <td>schools</td>\n",
       "      <td>2.622618</td>\n",
       "      <td>0.524524</td>\n",
       "    </tr>\n",
       "    <tr>\n",
       "      <th>75</th>\n",
       "      <td>Children's Day School (Middle School) Extension</td>\n",
       "      <td>37.759659</td>\n",
       "      <td>-122.425600</td>\n",
       "      <td>schools</td>\n",
       "      <td>2.733690</td>\n",
       "      <td>0.546738</td>\n",
       "    </tr>\n",
       "    <tr>\n",
       "      <th>76</th>\n",
       "      <td>Sanchez Elementary School</td>\n",
       "      <td>37.763723</td>\n",
       "      <td>-122.430825</td>\n",
       "      <td>schools</td>\n",
       "      <td>2.758956</td>\n",
       "      <td>0.551791</td>\n",
       "    </tr>\n",
       "    <tr>\n",
       "      <th>77</th>\n",
       "      <td>Bay Academy School</td>\n",
       "      <td>37.783195</td>\n",
       "      <td>-122.437401</td>\n",
       "      <td>schools</td>\n",
       "      <td>2.844301</td>\n",
       "      <td>0.568860</td>\n",
       "    </tr>\n",
       "  </tbody>\n",
       "</table>\n",
       "<p>78 rows × 6 columns</p>\n",
       "</div>"
      ],
      "text/plain": [
       "                                               name        lat         lon  \\\n",
       "0           Victoria Manalo Draves Basketball Court  37.777412 -122.406676   \n",
       "1               Bessie Carmichael Elementary School  37.776266 -122.406351   \n",
       "2                 Ukrainian School Of San Francisco  37.776299 -122.406776   \n",
       "3                        John Scott School Of Voice  37.781410 -122.407547   \n",
       "4                                Old School Records  37.781863 -122.406024   \n",
       "..                                              ...        ...         ...   \n",
       "73                         Ida B. Wells High School  37.775287 -122.434482   \n",
       "74                            Everett Middle School  37.763651 -122.428794   \n",
       "75  Children's Day School (Middle School) Extension  37.759659 -122.425600   \n",
       "76                        Sanchez Elementary School  37.763723 -122.430825   \n",
       "77                               Bay Academy School  37.783195 -122.437401   \n",
       "\n",
       "             category   geodist  punctuation  \n",
       "0   basketball_courts  0.152311     0.022847  \n",
       "1             schools  0.255062     0.051012  \n",
       "2             schools  0.264012     0.052802  \n",
       "3             schools  0.368342     0.073668  \n",
       "4             schools  0.378114     0.075623  \n",
       "..                ...       ...          ...  \n",
       "73            schools  2.563845     0.512769  \n",
       "74            schools  2.622618     0.524524  \n",
       "75            schools  2.733690     0.546738  \n",
       "76            schools  2.758956     0.551791  \n",
       "77            schools  2.844301     0.568860  \n",
       "\n",
       "[78 rows x 6 columns]"
      ]
     },
     "execution_count": 78,
     "metadata": {},
     "output_type": "execute_result"
    }
   ],
   "source": [
    "dfsanfran"
   ]
  },
  {
   "cell_type": "markdown",
   "id": "5f5d217f",
   "metadata": {},
   "source": [
    "# Normalizing the data"
   ]
  },
  {
   "cell_type": "markdown",
   "id": "057f9513",
   "metadata": {},
   "source": [
    "## San Francisco"
   ]
  },
  {
   "cell_type": "code",
   "execution_count": 79,
   "id": "9f38106f",
   "metadata": {},
   "outputs": [],
   "source": [
    "def normalization(df, col):\n",
    "    df['normal'] = (df[col] - df[col].min()) / (df[col].max() - df[col].min())     \n",
    "    df = df.reset_index(drop = False)\n",
    "    return df"
   ]
  },
  {
   "cell_type": "code",
   "execution_count": 80,
   "id": "706931c0",
   "metadata": {},
   "outputs": [],
   "source": [
    "pundfsanfran = normalization(dfsanfran,'geodist')\n",
    "pundfsanfran = dfsanfran.groupby('category').agg({'normal':'mean'}).reset_index()"
   ]
  },
  {
   "cell_type": "code",
   "execution_count": 81,
   "id": "2c251709",
   "metadata": {},
   "outputs": [
    {
     "data": {
      "text/html": [
       "<div>\n",
       "<style scoped>\n",
       "    .dataframe tbody tr th:only-of-type {\n",
       "        vertical-align: middle;\n",
       "    }\n",
       "\n",
       "    .dataframe tbody tr th {\n",
       "        vertical-align: top;\n",
       "    }\n",
       "\n",
       "    .dataframe thead th {\n",
       "        text-align: right;\n",
       "    }\n",
       "</style>\n",
       "<table border=\"1\" class=\"dataframe\">\n",
       "  <thead>\n",
       "    <tr style=\"text-align: right;\">\n",
       "      <th></th>\n",
       "      <th>category</th>\n",
       "      <th>normal</th>\n",
       "    </tr>\n",
       "  </thead>\n",
       "  <tbody>\n",
       "    <tr>\n",
       "      <th>0</th>\n",
       "      <td>basketball_courts</td>\n",
       "      <td>0.294989</td>\n",
       "    </tr>\n",
       "    <tr>\n",
       "      <th>1</th>\n",
       "      <td>schools</td>\n",
       "      <td>0.401540</td>\n",
       "    </tr>\n",
       "    <tr>\n",
       "      <th>2</th>\n",
       "      <td>starbucks</td>\n",
       "      <td>0.314408</td>\n",
       "    </tr>\n",
       "    <tr>\n",
       "      <th>3</th>\n",
       "      <td>train_stations</td>\n",
       "      <td>0.438440</td>\n",
       "    </tr>\n",
       "    <tr>\n",
       "      <th>4</th>\n",
       "      <td>vegan_venues</td>\n",
       "      <td>0.295980</td>\n",
       "    </tr>\n",
       "  </tbody>\n",
       "</table>\n",
       "</div>"
      ],
      "text/plain": [
       "            category    normal\n",
       "0  basketball_courts  0.294989\n",
       "1            schools  0.401540\n",
       "2          starbucks  0.314408\n",
       "3     train_stations  0.438440\n",
       "4       vegan_venues  0.295980"
      ]
     },
     "execution_count": 81,
     "metadata": {},
     "output_type": "execute_result"
    }
   ],
   "source": [
    "pundfsanfran"
   ]
  },
  {
   "cell_type": "code",
   "execution_count": 82,
   "id": "b188e2c7",
   "metadata": {},
   "outputs": [
    {
     "data": {
      "text/plain": [
       "0.34907135567294617"
      ]
     },
     "execution_count": 82,
     "metadata": {},
     "output_type": "execute_result"
    }
   ],
   "source": [
    "meansanfran = sum([i for i in pundfsanfran['normal']])/len(pundfsanfran['normal'])\n",
    "meansanfran"
   ]
  },
  {
   "cell_type": "markdown",
   "id": "2147b8c2",
   "metadata": {},
   "source": [
    "## Ellensburg"
   ]
  },
  {
   "cell_type": "code",
   "execution_count": 83,
   "id": "da994ad2",
   "metadata": {},
   "outputs": [],
   "source": [
    "pundfell = normalization(dfell,'geodist')\n",
    "pundfell = dfell.groupby('category').agg({'normal':'mean'}).reset_index()"
   ]
  },
  {
   "cell_type": "code",
   "execution_count": 84,
   "id": "88083446",
   "metadata": {},
   "outputs": [
    {
     "data": {
      "text/html": [
       "<div>\n",
       "<style scoped>\n",
       "    .dataframe tbody tr th:only-of-type {\n",
       "        vertical-align: middle;\n",
       "    }\n",
       "\n",
       "    .dataframe tbody tr th {\n",
       "        vertical-align: top;\n",
       "    }\n",
       "\n",
       "    .dataframe thead th {\n",
       "        text-align: right;\n",
       "    }\n",
       "</style>\n",
       "<table border=\"1\" class=\"dataframe\">\n",
       "  <thead>\n",
       "    <tr style=\"text-align: right;\">\n",
       "      <th></th>\n",
       "      <th>category</th>\n",
       "      <th>normal</th>\n",
       "    </tr>\n",
       "  </thead>\n",
       "  <tbody>\n",
       "    <tr>\n",
       "      <th>0</th>\n",
       "      <td>basketball_courts</td>\n",
       "      <td>0.548220</td>\n",
       "    </tr>\n",
       "    <tr>\n",
       "      <th>1</th>\n",
       "      <td>schools</td>\n",
       "      <td>0.244937</td>\n",
       "    </tr>\n",
       "    <tr>\n",
       "      <th>2</th>\n",
       "      <td>starbucks</td>\n",
       "      <td>0.265862</td>\n",
       "    </tr>\n",
       "    <tr>\n",
       "      <th>3</th>\n",
       "      <td>train_stations</td>\n",
       "      <td>0.343203</td>\n",
       "    </tr>\n",
       "  </tbody>\n",
       "</table>\n",
       "</div>"
      ],
      "text/plain": [
       "            category    normal\n",
       "0  basketball_courts  0.548220\n",
       "1            schools  0.244937\n",
       "2          starbucks  0.265862\n",
       "3     train_stations  0.343203"
      ]
     },
     "execution_count": 84,
     "metadata": {},
     "output_type": "execute_result"
    }
   ],
   "source": [
    "pundfell"
   ]
  },
  {
   "cell_type": "code",
   "execution_count": 85,
   "id": "3417ade0",
   "metadata": {},
   "outputs": [
    {
     "data": {
      "text/plain": [
       "0.35055563387786254"
      ]
     },
     "execution_count": 85,
     "metadata": {},
     "output_type": "execute_result"
    }
   ],
   "source": [
    "meanell = sum([i for i in pundfell['normal']])/len(pundfell['normal'])\n",
    "meanell"
   ]
  },
  {
   "cell_type": "markdown",
   "id": "ef0d5bc0",
   "metadata": {},
   "source": [
    "## Brooklyn"
   ]
  },
  {
   "cell_type": "code",
   "execution_count": 86,
   "id": "259ce935",
   "metadata": {},
   "outputs": [],
   "source": [
    "pundfbro = normalization(dfbro,'geodist')\n",
    "pundfbro = dfbro.groupby('category').agg({'normal':'mean'}).reset_index()"
   ]
  },
  {
   "cell_type": "code",
   "execution_count": 87,
   "id": "e1c304c0",
   "metadata": {},
   "outputs": [
    {
     "data": {
      "text/html": [
       "<div>\n",
       "<style scoped>\n",
       "    .dataframe tbody tr th:only-of-type {\n",
       "        vertical-align: middle;\n",
       "    }\n",
       "\n",
       "    .dataframe tbody tr th {\n",
       "        vertical-align: top;\n",
       "    }\n",
       "\n",
       "    .dataframe thead th {\n",
       "        text-align: right;\n",
       "    }\n",
       "</style>\n",
       "<table border=\"1\" class=\"dataframe\">\n",
       "  <thead>\n",
       "    <tr style=\"text-align: right;\">\n",
       "      <th></th>\n",
       "      <th>category</th>\n",
       "      <th>normal</th>\n",
       "    </tr>\n",
       "  </thead>\n",
       "  <tbody>\n",
       "    <tr>\n",
       "      <th>0</th>\n",
       "      <td>basketball_courts</td>\n",
       "      <td>0.388479</td>\n",
       "    </tr>\n",
       "    <tr>\n",
       "      <th>1</th>\n",
       "      <td>schools</td>\n",
       "      <td>0.389627</td>\n",
       "    </tr>\n",
       "    <tr>\n",
       "      <th>2</th>\n",
       "      <td>starbucks</td>\n",
       "      <td>0.468343</td>\n",
       "    </tr>\n",
       "    <tr>\n",
       "      <th>3</th>\n",
       "      <td>train_stations</td>\n",
       "      <td>0.330886</td>\n",
       "    </tr>\n",
       "    <tr>\n",
       "      <th>4</th>\n",
       "      <td>vegan_venues</td>\n",
       "      <td>0.400825</td>\n",
       "    </tr>\n",
       "  </tbody>\n",
       "</table>\n",
       "</div>"
      ],
      "text/plain": [
       "            category    normal\n",
       "0  basketball_courts  0.388479\n",
       "1            schools  0.389627\n",
       "2          starbucks  0.468343\n",
       "3     train_stations  0.330886\n",
       "4       vegan_venues  0.400825"
      ]
     },
     "execution_count": 87,
     "metadata": {},
     "output_type": "execute_result"
    }
   ],
   "source": [
    "pundfbro"
   ]
  },
  {
   "cell_type": "code",
   "execution_count": 88,
   "id": "6c0e4476",
   "metadata": {},
   "outputs": [
    {
     "data": {
      "text/plain": [
       "0.39563203410156744"
      ]
     },
     "execution_count": 88,
     "metadata": {},
     "output_type": "execute_result"
    }
   ],
   "source": [
    "meanbrooklyn = sum([i for i in pundfbro['normal']])/len(pundfbro['normal'])\n",
    "meanbrooklyn"
   ]
  },
  {
   "cell_type": "markdown",
   "id": "3e32147a",
   "metadata": {},
   "source": [
    "# Calculating the mean values of the different cities"
   ]
  },
  {
   "cell_type": "code",
   "execution_count": 89,
   "id": "5b5aab02",
   "metadata": {},
   "outputs": [
    {
     "data": {
      "text/html": [
       "<div>\n",
       "<style scoped>\n",
       "    .dataframe tbody tr th:only-of-type {\n",
       "        vertical-align: middle;\n",
       "    }\n",
       "\n",
       "    .dataframe tbody tr th {\n",
       "        vertical-align: top;\n",
       "    }\n",
       "\n",
       "    .dataframe thead th {\n",
       "        text-align: right;\n",
       "    }\n",
       "</style>\n",
       "<table border=\"1\" class=\"dataframe\">\n",
       "  <thead>\n",
       "    <tr style=\"text-align: right;\">\n",
       "      <th></th>\n",
       "      <th>San Francisco</th>\n",
       "      <th>Ellensburg</th>\n",
       "      <th>Brooklyn</th>\n",
       "    </tr>\n",
       "  </thead>\n",
       "  <tbody>\n",
       "    <tr>\n",
       "      <th>0</th>\n",
       "      <td>0.349071</td>\n",
       "      <td>0.350556</td>\n",
       "      <td>0.395632</td>\n",
       "    </tr>\n",
       "  </tbody>\n",
       "</table>\n",
       "</div>"
      ],
      "text/plain": [
       "   San Francisco  Ellensburg  Brooklyn\n",
       "0       0.349071    0.350556  0.395632"
      ]
     },
     "execution_count": 89,
     "metadata": {},
     "output_type": "execute_result"
    }
   ],
   "source": [
    "means = [meansanfran, meanell, meanbrooklyn]\n",
    "col = ['San Francisco', 'Ellensburg', 'Brooklyn']\n",
    "finalmeans = pd.DataFrame(means, index = col).T\n",
    "finalmeans"
   ]
  },
  {
   "cell_type": "markdown",
   "id": "1b5fa09f",
   "metadata": {},
   "source": [
    " <font size=\"5\"> Taking into account the studies, the best city to start our new company is San Francisco, followed by Brooklyn (as Ellensburg doesn't have any vegan restaurant and that is one of the requirements).</font> "
   ]
  },
  {
   "cell_type": "code",
   "execution_count": 90,
   "id": "27a0f259",
   "metadata": {},
   "outputs": [],
   "source": [
    "finalmeans.to_csv(\"../newdata/finalmeans.csv\")"
   ]
  },
  {
   "cell_type": "code",
   "execution_count": null,
   "id": "9b08abc0",
   "metadata": {},
   "outputs": [],
   "source": []
  }
 ],
 "metadata": {
  "kernelspec": {
   "display_name": "iron",
   "language": "python",
   "name": "iron"
  },
  "language_info": {
   "codemirror_mode": {
    "name": "ipython",
    "version": 3
   },
   "file_extension": ".py",
   "mimetype": "text/x-python",
   "name": "python",
   "nbconvert_exporter": "python",
   "pygments_lexer": "ipython3",
   "version": "3.9.7"
  },
  "toc": {
   "base_numbering": 1,
   "nav_menu": {},
   "number_sections": true,
   "sideBar": true,
   "skip_h1_title": false,
   "title_cell": "Table of Contents",
   "title_sidebar": "Contents",
   "toc_cell": false,
   "toc_position": {},
   "toc_section_display": true,
   "toc_window_display": false
  }
 },
 "nbformat": 4,
 "nbformat_minor": 5
}
