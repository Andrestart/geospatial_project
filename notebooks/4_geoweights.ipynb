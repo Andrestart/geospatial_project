{
 "cells": [
  {
   "cell_type": "code",
   "execution_count": 15,
   "id": "d8530d8b",
   "metadata": {},
   "outputs": [],
   "source": [
    "import pandas as pd"
   ]
  },
  {
   "cell_type": "code",
   "execution_count": 16,
   "id": "1d2e8eba",
   "metadata": {},
   "outputs": [],
   "source": [
    "marks = {\"vegan_venues\": 0.20, \"starbucks\":0.20, \"schools\":0.20, \"train_stations\":0.25, \"basketball_courts\":0.15} "
   ]
  },
  {
   "cell_type": "code",
   "execution_count": 17,
   "id": "6dd6a62b",
   "metadata": {},
   "outputs": [],
   "source": [
    "dfsanfran = pd.read_csv(\"../newdata/dfgeosf.csv\")\n",
    "dfell = pd.read_csv('../newdata/dfgeoell.csv')\n",
    "dfbro = pd.read_csv('../newdata/dfgeobro.csv')"
   ]
  },
  {
   "cell_type": "code",
   "execution_count": 18,
   "id": "680f7cee",
   "metadata": {},
   "outputs": [
    {
     "data": {
      "text/html": [
       "<div>\n",
       "<style scoped>\n",
       "    .dataframe tbody tr th:only-of-type {\n",
       "        vertical-align: middle;\n",
       "    }\n",
       "\n",
       "    .dataframe tbody tr th {\n",
       "        vertical-align: top;\n",
       "    }\n",
       "\n",
       "    .dataframe thead th {\n",
       "        text-align: right;\n",
       "    }\n",
       "</style>\n",
       "<table border=\"1\" class=\"dataframe\">\n",
       "  <thead>\n",
       "    <tr style=\"text-align: right;\">\n",
       "      <th></th>\n",
       "      <th>name</th>\n",
       "      <th>lat</th>\n",
       "      <th>lon</th>\n",
       "      <th>category</th>\n",
       "      <th>geodist</th>\n",
       "    </tr>\n",
       "  </thead>\n",
       "  <tbody>\n",
       "    <tr>\n",
       "      <th>0</th>\n",
       "      <td>MTA Subway - Grand Army Plaza (2/3)</td>\n",
       "      <td>40.675184</td>\n",
       "      <td>-73.971031</td>\n",
       "      <td>train_stations</td>\n",
       "      <td>0.150718</td>\n",
       "    </tr>\n",
       "    <tr>\n",
       "      <th>1</th>\n",
       "      <td>MTA Subway - 4th Ave/9th St (F/G/R)</td>\n",
       "      <td>40.670102</td>\n",
       "      <td>-73.989461</td>\n",
       "      <td>train_stations</td>\n",
       "      <td>0.150718</td>\n",
       "    </tr>\n",
       "    <tr>\n",
       "      <th>2</th>\n",
       "      <td>PS 118 - Maurice Sedak School</td>\n",
       "      <td>40.671092</td>\n",
       "      <td>-73.987976</td>\n",
       "      <td>schools</td>\n",
       "      <td>0.150719</td>\n",
       "    </tr>\n",
       "    <tr>\n",
       "      <th>3</th>\n",
       "      <td>Berkeley Carroll (Lower School)</td>\n",
       "      <td>40.673925</td>\n",
       "      <td>-73.978320</td>\n",
       "      <td>schools</td>\n",
       "      <td>0.150719</td>\n",
       "    </tr>\n",
       "    <tr>\n",
       "      <th>4</th>\n",
       "      <td>William Alexander School MS 51</td>\n",
       "      <td>40.672444</td>\n",
       "      <td>-73.984389</td>\n",
       "      <td>schools</td>\n",
       "      <td>0.150719</td>\n",
       "    </tr>\n",
       "    <tr>\n",
       "      <th>...</th>\n",
       "      <td>...</td>\n",
       "      <td>...</td>\n",
       "      <td>...</td>\n",
       "      <td>...</td>\n",
       "      <td>...</td>\n",
       "    </tr>\n",
       "    <tr>\n",
       "      <th>88</th>\n",
       "      <td>Miami Ad School Brooklyn</td>\n",
       "      <td>40.704596</td>\n",
       "      <td>-73.987520</td>\n",
       "      <td>schools</td>\n",
       "      <td>0.150753</td>\n",
       "    </tr>\n",
       "    <tr>\n",
       "      <th>89</th>\n",
       "      <td>CASTLE Middle School</td>\n",
       "      <td>40.713364</td>\n",
       "      <td>-73.986040</td>\n",
       "      <td>schools</td>\n",
       "      <td>0.150762</td>\n",
       "    </tr>\n",
       "    <tr>\n",
       "      <th>90</th>\n",
       "      <td>Manhattan Charter School II</td>\n",
       "      <td>40.713730</td>\n",
       "      <td>-73.986433</td>\n",
       "      <td>schools</td>\n",
       "      <td>0.150763</td>\n",
       "    </tr>\n",
       "    <tr>\n",
       "      <th>91</th>\n",
       "      <td>MTA Subway - East Broadway (F)</td>\n",
       "      <td>40.713973</td>\n",
       "      <td>-73.990125</td>\n",
       "      <td>train_stations</td>\n",
       "      <td>0.150764</td>\n",
       "    </tr>\n",
       "    <tr>\n",
       "      <th>92</th>\n",
       "      <td>Mei Wah Pre-School</td>\n",
       "      <td>40.712212</td>\n",
       "      <td>-73.996681</td>\n",
       "      <td>schools</td>\n",
       "      <td>0.150764</td>\n",
       "    </tr>\n",
       "  </tbody>\n",
       "</table>\n",
       "<p>93 rows × 5 columns</p>\n",
       "</div>"
      ],
      "text/plain": [
       "                                   name        lat        lon        category  \\\n",
       "0   MTA Subway - Grand Army Plaza (2/3)  40.675184 -73.971031  train_stations   \n",
       "1   MTA Subway - 4th Ave/9th St (F/G/R)  40.670102 -73.989461  train_stations   \n",
       "2         PS 118 - Maurice Sedak School  40.671092 -73.987976         schools   \n",
       "3       Berkeley Carroll (Lower School)  40.673925 -73.978320         schools   \n",
       "4        William Alexander School MS 51  40.672444 -73.984389         schools   \n",
       "..                                  ...        ...        ...             ...   \n",
       "88             Miami Ad School Brooklyn  40.704596 -73.987520         schools   \n",
       "89                 CASTLE Middle School  40.713364 -73.986040         schools   \n",
       "90          Manhattan Charter School II  40.713730 -73.986433         schools   \n",
       "91       MTA Subway - East Broadway (F)  40.713973 -73.990125  train_stations   \n",
       "92                   Mei Wah Pre-School  40.712212 -73.996681         schools   \n",
       "\n",
       "     geodist  \n",
       "0   0.150718  \n",
       "1   0.150718  \n",
       "2   0.150719  \n",
       "3   0.150719  \n",
       "4   0.150719  \n",
       "..       ...  \n",
       "88  0.150753  \n",
       "89  0.150762  \n",
       "90  0.150763  \n",
       "91  0.150764  \n",
       "92  0.150764  \n",
       "\n",
       "[93 rows x 5 columns]"
      ]
     },
     "execution_count": 18,
     "metadata": {},
     "output_type": "execute_result"
    }
   ],
   "source": [
    "dfbro"
   ]
  },
  {
   "cell_type": "code",
   "execution_count": 19,
   "id": "1e0d80c8",
   "metadata": {},
   "outputs": [],
   "source": [
    "def punct(df):  \n",
    "    o = []\n",
    "    for i,row in df.iterrows():\n",
    "        if row['category'] == \"vegan_venues\":\n",
    "            o.append(row['geodist']*marks['vegan_venues'])\n",
    "\n",
    "        elif row['category'] == \"starbucks\":\n",
    "            o.append(row['geodist']*marks['starbucks'])\n",
    "\n",
    "        elif row['category'] == \"schools\":\n",
    "            o.append(row['geodist']*marks['schools'])\n",
    "\n",
    "        elif row['category'] == \"train_stations\":\n",
    "            o.append(row['geodist']*marks['train_stations'])\n",
    "\n",
    "        elif row['category'] == \"basketball_courts\":\n",
    "            o.append(row['geodist']*marks['basketball_courts'])\n",
    "    df['punctuation'] = o\n",
    "    return df['punctuation']"
   ]
  },
  {
   "cell_type": "code",
   "execution_count": 20,
   "id": "7dbff448",
   "metadata": {},
   "outputs": [
    {
     "data": {
      "text/plain": [
       "0     0.037679\n",
       "1     0.037680\n",
       "2     0.030144\n",
       "3     0.030144\n",
       "4     0.030144\n",
       "        ...   \n",
       "88    0.030151\n",
       "89    0.030152\n",
       "90    0.030153\n",
       "91    0.037691\n",
       "92    0.030153\n",
       "Name: punctuation, Length: 93, dtype: float64"
      ]
     },
     "execution_count": 20,
     "metadata": {},
     "output_type": "execute_result"
    }
   ],
   "source": [
    "punct(dfsanfran)\n",
    "punct(dfell)\n",
    "punct(dfbro)"
   ]
  },
  {
   "cell_type": "code",
   "execution_count": 24,
   "id": "b188e2c7",
   "metadata": {},
   "outputs": [
    {
     "data": {
      "text/plain": [
       "0.22395428060468872"
      ]
     },
     "execution_count": 24,
     "metadata": {},
     "output_type": "execute_result"
    }
   ],
   "source": [
    "pundfsanfran = dfsanfran.groupby('category').agg({'punctuation':'mean'}).reset_index()\n",
    "meansanfran = sum([i for i in pundfsanfran['punctuation']])/len(pundfsanfran['punctuation'])\n",
    "meansanfran"
   ]
  },
  {
   "cell_type": "code",
   "execution_count": 25,
   "id": "da994ad2",
   "metadata": {},
   "outputs": [
    {
     "data": {
      "text/plain": [
       "0.15224927589435963"
      ]
     },
     "execution_count": 25,
     "metadata": {},
     "output_type": "execute_result"
    }
   ],
   "source": [
    "pundfell = dfell.groupby('category').agg({'punctuation':'mean'}).reset_index()\n",
    "meanell = sum([i for i in pundfell['punctuation']])/len(pundfell['punctuation'])\n",
    "meanell"
   ]
  },
  {
   "cell_type": "code",
   "execution_count": 26,
   "id": "259ce935",
   "metadata": {},
   "outputs": [
    {
     "data": {
      "text/plain": [
       "0.030147450114267015"
      ]
     },
     "execution_count": 26,
     "metadata": {},
     "output_type": "execute_result"
    }
   ],
   "source": [
    "pundfbro = dfbro.groupby('category').agg({'punctuation':'mean'}).reset_index()\n",
    "meanbrooklyn = sum([i for i in pundfbro['punctuation']])/len(pundfbro['punctuation'])\n",
    "meanbrooklyn"
   ]
  },
  {
   "cell_type": "code",
   "execution_count": 49,
   "id": "5b5aab02",
   "metadata": {},
   "outputs": [
    {
     "data": {
      "text/html": [
       "<div>\n",
       "<style scoped>\n",
       "    .dataframe tbody tr th:only-of-type {\n",
       "        vertical-align: middle;\n",
       "    }\n",
       "\n",
       "    .dataframe tbody tr th {\n",
       "        vertical-align: top;\n",
       "    }\n",
       "\n",
       "    .dataframe thead th {\n",
       "        text-align: right;\n",
       "    }\n",
       "</style>\n",
       "<table border=\"1\" class=\"dataframe\">\n",
       "  <thead>\n",
       "    <tr style=\"text-align: right;\">\n",
       "      <th></th>\n",
       "      <th>San Francisco</th>\n",
       "      <th>Ellensburg</th>\n",
       "      <th>Brooklyn</th>\n",
       "    </tr>\n",
       "  </thead>\n",
       "  <tbody>\n",
       "    <tr>\n",
       "      <th>0</th>\n",
       "      <td>0.223954</td>\n",
       "      <td>0.152249</td>\n",
       "      <td>0.030147</td>\n",
       "    </tr>\n",
       "  </tbody>\n",
       "</table>\n",
       "</div>"
      ],
      "text/plain": [
       "   San Francisco  Ellensburg  Brooklyn\n",
       "0       0.223954    0.152249  0.030147"
      ]
     },
     "execution_count": 49,
     "metadata": {},
     "output_type": "execute_result"
    }
   ],
   "source": [
    "means = [meansanfran, meanell, meanbrooklyn]\n",
    "col = ['San Francisco', 'Ellensburg', 'Brooklyn']\n",
    "finalmeans = pd.DataFrame(means, index = col).T\n",
    "finalmeans"
   ]
  }
 ],
 "metadata": {
  "kernelspec": {
   "display_name": "iron",
   "language": "python",
   "name": "iron"
  },
  "language_info": {
   "codemirror_mode": {
    "name": "ipython",
    "version": 3
   },
   "file_extension": ".py",
   "mimetype": "text/x-python",
   "name": "python",
   "nbconvert_exporter": "python",
   "pygments_lexer": "ipython3",
   "version": "3.9.7"
  },
  "toc": {
   "base_numbering": 1,
   "nav_menu": {},
   "number_sections": true,
   "sideBar": true,
   "skip_h1_title": false,
   "title_cell": "Table of Contents",
   "title_sidebar": "Contents",
   "toc_cell": false,
   "toc_position": {},
   "toc_section_display": true,
   "toc_window_display": false
  }
 },
 "nbformat": 4,
 "nbformat_minor": 5
}
